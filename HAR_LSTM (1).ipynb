{
 "cells": [
  {
   "cell_type": "code",
   "execution_count": 1,
   "metadata": {},
   "outputs": [],
   "source": [
    "# Importing Libraries"
   ]
  },
  {
   "cell_type": "code",
   "execution_count": 2,
   "metadata": {},
   "outputs": [],
   "source": [
    "import pandas as pd\n",
    "import numpy as np"
   ]
  },
  {
   "cell_type": "code",
   "execution_count": 3,
   "metadata": {},
   "outputs": [],
   "source": [
    "# Activities are the class labels\n",
    "# It is a 6 class classification\n",
    "ACTIVITIES = {\n",
    "    0: 'WALKING',\n",
    "    1: 'WALKING_UPSTAIRS',\n",
    "    2: 'WALKING_DOWNSTAIRS',\n",
    "    3: 'SITTING',\n",
    "    4: 'STANDING',\n",
    "    5: 'LAYING',\n",
    "}\n",
    "\n",
    "# Utility function to print the confusion matrix\n",
    "def confusion_matrix(Y_true, Y_pred):\n",
    "    Y_true = pd.Series([ACTIVITIES[y] for y in np.argmax(Y_true, axis=1)])\n",
    "    Y_pred = pd.Series([ACTIVITIES[y] for y in np.argmax(Y_pred, axis=1)])\n",
    "\n",
    "    return pd.crosstab(Y_true, Y_pred, rownames=['True'], colnames=['Pred'])"
   ]
  },
  {
   "cell_type": "markdown",
   "metadata": {},
   "source": [
    "### Data"
   ]
  },
  {
   "cell_type": "code",
   "execution_count": 4,
   "metadata": {},
   "outputs": [],
   "source": [
    "# Data directory\n",
    "DATADIR = 'UCI_HAR_Dataset'"
   ]
  },
  {
   "cell_type": "code",
   "execution_count": 5,
   "metadata": {},
   "outputs": [],
   "source": [
    "# Raw data signals\n",
    "# Signals are from Accelerometer and Gyroscope\n",
    "# The signals are in x,y,z directions\n",
    "# Sensor signals are filtered to have only body acceleration\n",
    "# excluding the acceleration due to gravity\n",
    "# Triaxial acceleration from the accelerometer is total acceleration\n",
    "SIGNALS = [\n",
    "    \"body_acc_x\",\n",
    "    \"body_acc_y\",\n",
    "    \"body_acc_z\",\n",
    "    \"body_gyro_x\",\n",
    "    \"body_gyro_y\",\n",
    "    \"body_gyro_z\",\n",
    "    \"total_acc_x\",\n",
    "    \"total_acc_y\",\n",
    "    \"total_acc_z\"\n",
    "]"
   ]
  },
  {
   "cell_type": "code",
   "execution_count": 6,
   "metadata": {},
   "outputs": [],
   "source": [
    "# Utility function to read the data from csv file\n",
    "def _read_csv(filename):\n",
    "    return pd.read_csv(filename, delim_whitespace=True, header=None)\n",
    "\n",
    "# Utility function to load the load\n",
    "def load_signals(subset):\n",
    "    signals_data = []\n",
    "\n",
    "    for signal in SIGNALS:\n",
    "        filename = '{signal}_{subset}.txt'\n",
    "        signals_data.append( _read_csv(filename).as_matrix()) \n",
    "\n",
    "    # Transpose is used to change the dimensionality of the output,\n",
    "    # aggregating the signals by combination of sample/timestep.\n",
    "    # Resultant shape is (7352 train/2947 test samples, 128 timesteps, 9 signals)\n",
    "    return np.transpose(signals_data, (1, 2, 0))"
   ]
  },
  {
   "cell_type": "code",
   "execution_count": 7,
   "metadata": {},
   "outputs": [],
   "source": [
    "\n",
    "def load_y(subset):\n",
    "    \"\"\"\n",
    "    The objective that we are trying to predict is a integer, from 1 to 6,\n",
    "    that represents a human activity. We return a binary representation of \n",
    "    every sample objective as a 6 bits vector using One Hot Encoding\n",
    "    (https://pandas.pydata.org/pandas-docs/stable/generated/pandas.get_dummies.html)\n",
    "    \"\"\"\n",
    "    filename = 'y_{subset}.txt'\n",
    "    y = _read_csv(filename)[0]\n",
    "\n",
    "    return pd.get_dummies(y).as_matrix()"
   ]
  },
  {
   "cell_type": "code",
   "execution_count": 8,
   "metadata": {},
   "outputs": [
    {
     "name": "stderr",
     "output_type": "stream",
     "text": [
      "/home/shanud6711/.local/lib/python3.5/site-packages/ipykernel_launcher.py:13: FutureWarning: Method .as_matrix will be removed in a future version. Use .values instead.\n",
      "  del sys.path[0]\n"
     ]
    }
   ],
   "source": [
    "signals_data = []\n",
    "\n",
    "filename = [\"body_acc_x_train.txt\",\n",
    "    \"body_acc_y_train.txt\",\n",
    "    \"body_acc_z_train.txt\",\n",
    "    \"body_gyro_x_train.txt\",\n",
    "    \"body_gyro_y_train.txt\",\n",
    "    \"body_gyro_z_train.txt\",\n",
    "    \"total_acc_x_train.txt\",\n",
    "    \"total_acc_y_train.txt\",\n",
    "    \"total_acc_z_train.txt\"]\n",
    "for files in filename:\n",
    "    signals_data.append( _read_csv(files).as_matrix()) \n",
    "    \n",
    "    \n",
    "X_train = np.transpose(signals_data, (1, 2, 0))"
   ]
  },
  {
   "cell_type": "code",
   "execution_count": 9,
   "metadata": {},
   "outputs": [
    {
     "data": {
      "text/plain": [
       "(7352, 128, 9)"
      ]
     },
     "execution_count": 9,
     "metadata": {},
     "output_type": "execute_result"
    }
   ],
   "source": [
    "X_train.shape"
   ]
  },
  {
   "cell_type": "code",
   "execution_count": 10,
   "metadata": {},
   "outputs": [
    {
     "name": "stderr",
     "output_type": "stream",
     "text": [
      "/home/shanud6711/.local/lib/python3.5/site-packages/ipykernel_launcher.py:12: FutureWarning: Method .as_matrix will be removed in a future version. Use .values instead.\n",
      "  if sys.path[0] == '':\n"
     ]
    }
   ],
   "source": [
    "signals_data_test = []\n",
    "filename = [\"body_acc_x_test.txt\",\n",
    "    \"body_acc_y_test.txt\",\n",
    "    \"body_acc_z_test.txt\",\n",
    "    \"body_gyro_x_test.txt\",\n",
    "    \"body_gyro_y_test.txt\",\n",
    "    \"body_gyro_z_test.txt\",\n",
    "    \"total_acc_x_test.txt\",\n",
    "    \"total_acc_y_test.txt\",\n",
    "    \"total_acc_z_test.txt\"]\n",
    "for files in filename:\n",
    "    signals_data_test.append( _read_csv(files).as_matrix()) \n",
    "    \n",
    "    \n",
    "X_test = np.transpose(signals_data_test,(1,2,0))"
   ]
  },
  {
   "cell_type": "code",
   "execution_count": 11,
   "metadata": {},
   "outputs": [
    {
     "data": {
      "text/plain": [
       "(2947, 128, 9)"
      ]
     },
     "execution_count": 11,
     "metadata": {},
     "output_type": "execute_result"
    }
   ],
   "source": [
    "X_test.shape"
   ]
  },
  {
   "cell_type": "code",
   "execution_count": 12,
   "metadata": {},
   "outputs": [
    {
     "name": "stderr",
     "output_type": "stream",
     "text": [
      "/home/shanud6711/.local/lib/python3.5/site-packages/ipykernel_launcher.py:2: FutureWarning: Method .as_matrix will be removed in a future version. Use .values instead.\n",
      "  \n"
     ]
    }
   ],
   "source": [
    "y = _read_csv('y_train.txt')[0]\n",
    "Y_train = pd.get_dummies(y).as_matrix()"
   ]
  },
  {
   "cell_type": "code",
   "execution_count": 13,
   "metadata": {},
   "outputs": [
    {
     "name": "stderr",
     "output_type": "stream",
     "text": [
      "/home/shanud6711/.local/lib/python3.5/site-packages/ipykernel_launcher.py:2: FutureWarning: Method .as_matrix will be removed in a future version. Use .values instead.\n",
      "  \n"
     ]
    }
   ],
   "source": [
    "y_ = _read_csv('y_test.txt')[0]\n",
    "Y_test = pd.get_dummies(y_).as_matrix()"
   ]
  },
  {
   "cell_type": "code",
   "execution_count": 14,
   "metadata": {},
   "outputs": [
    {
     "name": "stderr",
     "output_type": "stream",
     "text": [
      "/home/shanud6711/.local/lib/python3.5/site-packages/tensorflow/python/framework/dtypes.py:516: FutureWarning: Passing (type, 1) or '1type' as a synonym of type is deprecated; in a future version of numpy, it will be understood as (type, (1,)) / '(1,)type'.\n",
      "  _np_qint8 = np.dtype([(\"qint8\", np.int8, 1)])\n",
      "/home/shanud6711/.local/lib/python3.5/site-packages/tensorflow/python/framework/dtypes.py:517: FutureWarning: Passing (type, 1) or '1type' as a synonym of type is deprecated; in a future version of numpy, it will be understood as (type, (1,)) / '(1,)type'.\n",
      "  _np_quint8 = np.dtype([(\"quint8\", np.uint8, 1)])\n",
      "/home/shanud6711/.local/lib/python3.5/site-packages/tensorflow/python/framework/dtypes.py:518: FutureWarning: Passing (type, 1) or '1type' as a synonym of type is deprecated; in a future version of numpy, it will be understood as (type, (1,)) / '(1,)type'.\n",
      "  _np_qint16 = np.dtype([(\"qint16\", np.int16, 1)])\n",
      "/home/shanud6711/.local/lib/python3.5/site-packages/tensorflow/python/framework/dtypes.py:519: FutureWarning: Passing (type, 1) or '1type' as a synonym of type is deprecated; in a future version of numpy, it will be understood as (type, (1,)) / '(1,)type'.\n",
      "  _np_quint16 = np.dtype([(\"quint16\", np.uint16, 1)])\n",
      "/home/shanud6711/.local/lib/python3.5/site-packages/tensorflow/python/framework/dtypes.py:520: FutureWarning: Passing (type, 1) or '1type' as a synonym of type is deprecated; in a future version of numpy, it will be understood as (type, (1,)) / '(1,)type'.\n",
      "  _np_qint32 = np.dtype([(\"qint32\", np.int32, 1)])\n",
      "/home/shanud6711/.local/lib/python3.5/site-packages/tensorflow/python/framework/dtypes.py:525: FutureWarning: Passing (type, 1) or '1type' as a synonym of type is deprecated; in a future version of numpy, it will be understood as (type, (1,)) / '(1,)type'.\n",
      "  np_resource = np.dtype([(\"resource\", np.ubyte, 1)])\n",
      "/home/shanud6711/.local/lib/python3.5/site-packages/tensorboard/compat/tensorflow_stub/dtypes.py:541: FutureWarning: Passing (type, 1) or '1type' as a synonym of type is deprecated; in a future version of numpy, it will be understood as (type, (1,)) / '(1,)type'.\n",
      "  _np_qint8 = np.dtype([(\"qint8\", np.int8, 1)])\n",
      "/home/shanud6711/.local/lib/python3.5/site-packages/tensorboard/compat/tensorflow_stub/dtypes.py:542: FutureWarning: Passing (type, 1) or '1type' as a synonym of type is deprecated; in a future version of numpy, it will be understood as (type, (1,)) / '(1,)type'.\n",
      "  _np_quint8 = np.dtype([(\"quint8\", np.uint8, 1)])\n",
      "/home/shanud6711/.local/lib/python3.5/site-packages/tensorboard/compat/tensorflow_stub/dtypes.py:543: FutureWarning: Passing (type, 1) or '1type' as a synonym of type is deprecated; in a future version of numpy, it will be understood as (type, (1,)) / '(1,)type'.\n",
      "  _np_qint16 = np.dtype([(\"qint16\", np.int16, 1)])\n",
      "/home/shanud6711/.local/lib/python3.5/site-packages/tensorboard/compat/tensorflow_stub/dtypes.py:544: FutureWarning: Passing (type, 1) or '1type' as a synonym of type is deprecated; in a future version of numpy, it will be understood as (type, (1,)) / '(1,)type'.\n",
      "  _np_quint16 = np.dtype([(\"quint16\", np.uint16, 1)])\n",
      "/home/shanud6711/.local/lib/python3.5/site-packages/tensorboard/compat/tensorflow_stub/dtypes.py:545: FutureWarning: Passing (type, 1) or '1type' as a synonym of type is deprecated; in a future version of numpy, it will be understood as (type, (1,)) / '(1,)type'.\n",
      "  _np_qint32 = np.dtype([(\"qint32\", np.int32, 1)])\n",
      "/home/shanud6711/.local/lib/python3.5/site-packages/tensorboard/compat/tensorflow_stub/dtypes.py:550: FutureWarning: Passing (type, 1) or '1type' as a synonym of type is deprecated; in a future version of numpy, it will be understood as (type, (1,)) / '(1,)type'.\n",
      "  np_resource = np.dtype([(\"resource\", np.ubyte, 1)])\n"
     ]
    }
   ],
   "source": [
    "# Importing tensorflow\n",
    "np.random.seed(42)\n",
    "import tensorflow as tf\n",
    "tf.set_random_seed(42)"
   ]
  },
  {
   "cell_type": "code",
   "execution_count": 15,
   "metadata": {},
   "outputs": [],
   "source": [
    "# Configuring a session\n",
    "session_conf = tf.ConfigProto(\n",
    "    intra_op_parallelism_threads=1,\n",
    "    inter_op_parallelism_threads=1\n",
    ")"
   ]
  },
  {
   "cell_type": "code",
   "execution_count": 16,
   "metadata": {},
   "outputs": [
    {
     "name": "stderr",
     "output_type": "stream",
     "text": [
      "Using TensorFlow backend.\n"
     ]
    }
   ],
   "source": [
    "# Import Keras\n",
    "from keras import backend as K\n",
    "sess = tf.Session(graph=tf.get_default_graph(), config=session_conf)\n",
    "K.set_session(sess)"
   ]
  },
  {
   "cell_type": "code",
   "execution_count": 17,
   "metadata": {},
   "outputs": [],
   "source": [
    "# Importing libraries\n",
    "from keras.models import Sequential\n",
    "from keras.layers import LSTM\n",
    "from keras.layers.core import Dense, Dropout"
   ]
  },
  {
   "cell_type": "code",
   "execution_count": 18,
   "metadata": {},
   "outputs": [],
   "source": [
    "# Initializing parameters\n",
    "epochs = 30\n",
    "batch_size = 16\n",
    "n_hidden = 32"
   ]
  },
  {
   "cell_type": "code",
   "execution_count": 19,
   "metadata": {},
   "outputs": [],
   "source": [
    "# Utility function to count the number of classes\n",
    "def _count_classes(y):\n",
    "    return len(set([tuple(category) for category in y]))"
   ]
  },
  {
   "cell_type": "code",
   "execution_count": 20,
   "metadata": {},
   "outputs": [
    {
     "name": "stdout",
     "output_type": "stream",
     "text": [
      "128\n",
      "9\n",
      "7352\n"
     ]
    }
   ],
   "source": [
    "timesteps = len(X_train[0])\n",
    "input_dim = len(X_train[0][0])\n",
    "n_classes = _count_classes(Y_train)\n",
    "\n",
    "print(timesteps)\n",
    "print(input_dim)\n",
    "print(len(X_train))"
   ]
  },
  {
   "cell_type": "markdown",
   "metadata": {},
   "source": [
    "- Defining the Architecture of LSTM"
   ]
  },
  {
   "cell_type": "code",
   "execution_count": 21,
   "metadata": {},
   "outputs": [
    {
     "name": "stdout",
     "output_type": "stream",
     "text": [
      "Model: \"sequential_1\"\n",
      "_________________________________________________________________\n",
      "Layer (type)                 Output Shape              Param #   \n",
      "=================================================================\n",
      "lstm_1 (LSTM)                (None, 32)                5376      \n",
      "_________________________________________________________________\n",
      "dropout_1 (Dropout)          (None, 32)                0         \n",
      "_________________________________________________________________\n",
      "dense_1 (Dense)              (None, 6)                 198       \n",
      "=================================================================\n",
      "Total params: 5,574\n",
      "Trainable params: 5,574\n",
      "Non-trainable params: 0\n",
      "_________________________________________________________________\n"
     ]
    }
   ],
   "source": [
    "# Initiliazing the sequential model\n",
    "model = Sequential()\n",
    "# Configuring the parameters\n",
    "model.add(LSTM(n_hidden, input_shape=(timesteps, input_dim)))\n",
    "# Adding a dropout layer\n",
    "model.add(Dropout(0.5))\n",
    "# Adding a dense output layer with sigmoid activation\n",
    "model.add(Dense(n_classes, activation='sigmoid'))\n",
    "model.summary()"
   ]
  },
  {
   "cell_type": "code",
   "execution_count": 22,
   "metadata": {},
   "outputs": [],
   "source": [
    "# Compiling the model\n",
    "model.compile(loss='categorical_crossentropy',\n",
    "              optimizer='rmsprop',\n",
    "              metrics=['accuracy'])"
   ]
  },
  {
   "cell_type": "code",
   "execution_count": 23,
   "metadata": {},
   "outputs": [
    {
     "name": "stdout",
     "output_type": "stream",
     "text": [
      "WARNING:tensorflow:From /home/shanud6711/.local/lib/python3.5/site-packages/tensorflow/python/ops/math_grad.py:1250: add_dispatch_support.<locals>.wrapper (from tensorflow.python.ops.array_ops) is deprecated and will be removed in a future version.\n",
      "Instructions for updating:\n",
      "Use tf.where in 2.0, which has the same broadcast rule as np.where\n",
      "WARNING:tensorflow:From /home/shanud6711/.local/lib/python3.5/site-packages/keras/backend/tensorflow_backend.py:422: The name tf.global_variables is deprecated. Please use tf.compat.v1.global_variables instead.\n",
      "\n",
      "Train on 7352 samples, validate on 2947 samples\n",
      "Epoch 1/30\n",
      "7352/7352 [==============================] - 19s 3ms/step - loss: 1.3008 - accuracy: 0.4645 - val_loss: 1.0891 - val_accuracy: 0.5565\n",
      "Epoch 2/30\n",
      "7352/7352 [==============================] - 19s 3ms/step - loss: 0.9056 - accuracy: 0.6171 - val_loss: 0.8277 - val_accuracy: 0.5942\n",
      "Epoch 3/30\n",
      "7352/7352 [==============================] - 19s 3ms/step - loss: 0.7434 - accuracy: 0.6549 - val_loss: 0.7569 - val_accuracy: 0.6230\n",
      "Epoch 4/30\n",
      "7352/7352 [==============================] - 19s 3ms/step - loss: 0.6725 - accuracy: 0.6800 - val_loss: 0.6941 - val_accuracy: 0.6651\n",
      "Epoch 5/30\n",
      "7352/7352 [==============================] - 19s 3ms/step - loss: 0.6236 - accuracy: 0.7116 - val_loss: 0.6568 - val_accuracy: 0.7326\n",
      "Epoch 6/30\n",
      "7352/7352 [==============================] - 19s 3ms/step - loss: 0.5866 - accuracy: 0.7333 - val_loss: 0.7696 - val_accuracy: 0.6763\n",
      "Epoch 7/30\n",
      "7352/7352 [==============================] - 19s 3ms/step - loss: 0.5055 - accuracy: 0.7748 - val_loss: 0.6162 - val_accuracy: 0.7272\n",
      "Epoch 8/30\n",
      "7352/7352 [==============================] - 19s 3ms/step - loss: 0.4769 - accuracy: 0.7791 - val_loss: 0.5323 - val_accuracy: 0.7465\n",
      "Epoch 9/30\n",
      "7352/7352 [==============================] - 19s 3ms/step - loss: 0.4243 - accuracy: 0.7979 - val_loss: 0.6893 - val_accuracy: 0.7167\n",
      "Epoch 10/30\n",
      "7352/7352 [==============================] - 19s 3ms/step - loss: 0.4033 - accuracy: 0.8096 - val_loss: 0.5631 - val_accuracy: 0.7326\n",
      "Epoch 11/30\n",
      "7352/7352 [==============================] - 19s 3ms/step - loss: 0.3785 - accuracy: 0.8391 - val_loss: 0.5226 - val_accuracy: 0.7937\n",
      "Epoch 12/30\n",
      "7352/7352 [==============================] - 19s 3ms/step - loss: 0.3327 - accuracy: 0.8791 - val_loss: 0.5721 - val_accuracy: 0.8694\n",
      "Epoch 13/30\n",
      "7352/7352 [==============================] - 19s 3ms/step - loss: 0.2857 - accuracy: 0.9132 - val_loss: 0.4536 - val_accuracy: 0.8812\n",
      "Epoch 14/30\n",
      "7352/7352 [==============================] - 19s 3ms/step - loss: 0.2537 - accuracy: 0.9207 - val_loss: 0.5414 - val_accuracy: 0.8748\n",
      "Epoch 15/30\n",
      "7352/7352 [==============================] - 19s 3ms/step - loss: 0.2421 - accuracy: 0.9293 - val_loss: 0.4205 - val_accuracy: 0.8968\n",
      "Epoch 16/30\n",
      "7352/7352 [==============================] - 19s 3ms/step - loss: 0.2077 - accuracy: 0.9331 - val_loss: 0.4868 - val_accuracy: 0.8785\n",
      "Epoch 17/30\n",
      "7352/7352 [==============================] - 19s 3ms/step - loss: 0.1950 - accuracy: 0.9384 - val_loss: 0.5625 - val_accuracy: 0.8833\n",
      "Epoch 18/30\n",
      "7352/7352 [==============================] - 19s 3ms/step - loss: 0.1844 - accuracy: 0.9419 - val_loss: 0.6079 - val_accuracy: 0.8738\n",
      "Epoch 19/30\n",
      "7352/7352 [==============================] - 19s 3ms/step - loss: 0.1846 - accuracy: 0.9414 - val_loss: 0.4497 - val_accuracy: 0.8999\n",
      "Epoch 20/30\n",
      "7352/7352 [==============================] - 19s 3ms/step - loss: 0.1701 - accuracy: 0.9459 - val_loss: 0.5215 - val_accuracy: 0.8795\n",
      "Epoch 21/30\n",
      "7352/7352 [==============================] - 19s 3ms/step - loss: 0.1723 - accuracy: 0.9450 - val_loss: 0.4698 - val_accuracy: 0.8887\n",
      "Epoch 22/30\n",
      "7352/7352 [==============================] - 19s 3ms/step - loss: 0.1813 - accuracy: 0.9448 - val_loss: 0.4783 - val_accuracy: 0.8795\n",
      "Epoch 23/30\n",
      "7352/7352 [==============================] - 19s 3ms/step - loss: 0.1579 - accuracy: 0.9465 - val_loss: 0.4126 - val_accuracy: 0.8968\n",
      "Epoch 24/30\n",
      "7352/7352 [==============================] - 19s 3ms/step - loss: 0.1754 - accuracy: 0.9448 - val_loss: 0.3679 - val_accuracy: 0.9111\n",
      "Epoch 25/30\n",
      "7352/7352 [==============================] - 19s 3ms/step - loss: 0.1827 - accuracy: 0.9425 - val_loss: 0.9810 - val_accuracy: 0.8426\n",
      "Epoch 26/30\n",
      "7352/7352 [==============================] - 19s 3ms/step - loss: 0.1565 - accuracy: 0.9489 - val_loss: 0.3639 - val_accuracy: 0.9043\n",
      "Epoch 27/30\n",
      "7352/7352 [==============================] - 19s 3ms/step - loss: 0.1508 - accuracy: 0.9484 - val_loss: 0.3858 - val_accuracy: 0.8996\n",
      "Epoch 28/30\n",
      "7352/7352 [==============================] - 19s 3ms/step - loss: 0.1461 - accuracy: 0.9470 - val_loss: 0.4374 - val_accuracy: 0.9013\n",
      "Epoch 29/30\n",
      "7352/7352 [==============================] - 19s 3ms/step - loss: 0.1558 - accuracy: 0.9449 - val_loss: 0.3596 - val_accuracy: 0.9043\n",
      "Epoch 30/30\n",
      "7352/7352 [==============================] - 19s 3ms/step - loss: 0.1712 - accuracy: 0.9433 - val_loss: 0.4166 - val_accuracy: 0.8955\n"
     ]
    },
    {
     "data": {
      "text/plain": [
       "<keras.callbacks.callbacks.History at 0x7fd3b86acc88>"
      ]
     },
     "execution_count": 23,
     "metadata": {},
     "output_type": "execute_result"
    }
   ],
   "source": [
    "# Training the model\n",
    "model.fit(X_train,\n",
    "          Y_train,\n",
    "          batch_size=batch_size,\n",
    "          validation_data=(X_test, Y_test),\n",
    "          epochs=epochs)"
   ]
  },
  {
   "cell_type": "code",
   "execution_count": 24,
   "metadata": {},
   "outputs": [
    {
     "name": "stdout",
     "output_type": "stream",
     "text": [
      "Pred                LAYING  SITTING  STANDING  WALKING  WALKING_DOWNSTAIRS  \\\n",
      "True                                                                         \n",
      "LAYING                 510        0        27        0                   0   \n",
      "SITTING                  2      381       105        1                   1   \n",
      "STANDING                 0       86       446        0                   0   \n",
      "WALKING                  0        0         0      454                  15   \n",
      "WALKING_DOWNSTAIRS       0        0         0        0                 419   \n",
      "WALKING_UPSTAIRS         0        7         0        4                  31   \n",
      "\n",
      "Pred                WALKING_UPSTAIRS  \n",
      "True                                  \n",
      "LAYING                             0  \n",
      "SITTING                            1  \n",
      "STANDING                           0  \n",
      "WALKING                           27  \n",
      "WALKING_DOWNSTAIRS                 1  \n",
      "WALKING_UPSTAIRS                 429  \n"
     ]
    }
   ],
   "source": [
    "# Confusion Matrix\n",
    "print(confusion_matrix(Y_test, model.predict(X_test)))"
   ]
  },
  {
   "cell_type": "code",
   "execution_count": 28,
   "metadata": {},
   "outputs": [
    {
     "name": "stdout",
     "output_type": "stream",
     "text": [
      "2947/2947 [==============================] - 1s 307us/step\n"
     ]
    }
   ],
   "source": [
    "score = model.evaluate(X_test, Y_test)"
   ]
  },
  {
   "cell_type": "code",
   "execution_count": 29,
   "metadata": {},
   "outputs": [
    {
     "data": {
      "text/plain": [
       "[0.41655886096877154, 0.8954869508743286]"
      ]
     },
     "execution_count": 29,
     "metadata": {},
     "output_type": "execute_result"
    }
   ],
   "source": [
    "score"
   ]
  },
  {
   "cell_type": "markdown",
   "metadata": {},
   "source": [
    "- With a simple 2 layer architecture we got 89.54% accuracy and a loss of 0.416\n",
    "- We can further imporve the performace with Hyperparameter tuning"
   ]
  },
  {
   "cell_type": "markdown",
   "metadata": {},
   "source": [
    "# hyperparameter tuning LSTM Model"
   ]
  },
  {
   "cell_type": "markdown",
   "metadata": {},
   "source": [
    "> model 1"
   ]
  },
  {
   "cell_type": "code",
   "execution_count": 30,
   "metadata": {},
   "outputs": [
    {
     "name": "stdout",
     "output_type": "stream",
     "text": [
      "Model: \"sequential_3\"\n",
      "_________________________________________________________________\n",
      "Layer (type)                 Output Shape              Param #   \n",
      "=================================================================\n",
      "lstm_3 (LSTM)                (None, 64)                18944     \n",
      "_________________________________________________________________\n",
      "batch_normalization_2 (Batch (None, 64)                256       \n",
      "_________________________________________________________________\n",
      "dropout_3 (Dropout)          (None, 64)                0         \n",
      "_________________________________________________________________\n",
      "dense_3 (Dense)              (None, 6)                 390       \n",
      "=================================================================\n",
      "Total params: 19,590\n",
      "Trainable params: 19,462\n",
      "Non-trainable params: 128\n",
      "_________________________________________________________________\n"
     ]
    }
   ],
   "source": [
    "from keras.layers.normalization import BatchNormalization\n",
    "\n",
    "model1 = Sequential()\n",
    "# Configuring the parameters\n",
    "model1.add(LSTM(64, input_shape=(timesteps, input_dim)))\n",
    "model1.add(BatchNormalization())\n",
    "# Adding a dropout layer\n",
    "model1.add(Dropout(0.5))\n",
    "# Adding a dense output layer with sigmoid activation\n",
    "model1.add(Dense(n_classes, activation='sigmoid'))\n",
    "model1.summary()"
   ]
  },
  {
   "cell_type": "code",
   "execution_count": 31,
   "metadata": {},
   "outputs": [],
   "source": [
    "model1.compile(loss='categorical_crossentropy',\n",
    "              optimizer='Adam',\n",
    "              metrics=['accuracy'])"
   ]
  },
  {
   "cell_type": "code",
   "execution_count": 32,
   "metadata": {},
   "outputs": [
    {
     "name": "stdout",
     "output_type": "stream",
     "text": [
      "Train on 7352 samples, validate on 2947 samples\n",
      "Epoch 1/30\n",
      "7352/7352 [==============================] - 25s 3ms/step - loss: 1.1227 - accuracy: 0.5359 - val_loss: 0.9233 - val_accuracy: 0.6328\n",
      "Epoch 2/30\n",
      "7352/7352 [==============================] - 25s 3ms/step - loss: 0.8160 - accuracy: 0.6487 - val_loss: 0.7654 - val_accuracy: 0.6871\n",
      "Epoch 3/30\n",
      "7352/7352 [==============================] - 25s 3ms/step - loss: 0.7554 - accuracy: 0.6662 - val_loss: 0.7253 - val_accuracy: 0.6804\n",
      "Epoch 4/30\n",
      "7352/7352 [==============================] - 25s 3ms/step - loss: 0.6246 - accuracy: 0.7371 - val_loss: 0.5614 - val_accuracy: 0.8062\n",
      "Epoch 5/30\n",
      "7352/7352 [==============================] - 25s 3ms/step - loss: 0.4200 - accuracy: 0.8757 - val_loss: 0.3841 - val_accuracy: 0.8843\n",
      "Epoch 6/30\n",
      "7352/7352 [==============================] - 25s 3ms/step - loss: 0.3393 - accuracy: 0.8925 - val_loss: 0.3294 - val_accuracy: 0.8856\n",
      "Epoch 7/30\n",
      "7352/7352 [==============================] - 25s 3ms/step - loss: 0.3520 - accuracy: 0.8777 - val_loss: 0.3121 - val_accuracy: 0.8938\n",
      "Epoch 8/30\n",
      "7352/7352 [==============================] - 25s 3ms/step - loss: 0.3676 - accuracy: 0.8837 - val_loss: 0.5714 - val_accuracy: 0.8551\n",
      "Epoch 9/30\n",
      "7352/7352 [==============================] - 25s 3ms/step - loss: 0.3391 - accuracy: 0.8917 - val_loss: 0.3430 - val_accuracy: 0.9013\n",
      "Epoch 10/30\n",
      "7352/7352 [==============================] - 24s 3ms/step - loss: 0.1988 - accuracy: 0.9313 - val_loss: 0.3869 - val_accuracy: 0.9006\n",
      "Epoch 11/30\n",
      "7352/7352 [==============================] - 25s 3ms/step - loss: 0.1775 - accuracy: 0.9384 - val_loss: 0.3957 - val_accuracy: 0.9040\n",
      "Epoch 12/30\n",
      "7352/7352 [==============================] - 24s 3ms/step - loss: 0.3241 - accuracy: 0.8945 - val_loss: 0.4345 - val_accuracy: 0.8663\n",
      "Epoch 13/30\n",
      "7352/7352 [==============================] - 24s 3ms/step - loss: 0.3077 - accuracy: 0.8979 - val_loss: 0.2863 - val_accuracy: 0.9087\n",
      "Epoch 14/30\n",
      "7352/7352 [==============================] - 24s 3ms/step - loss: 0.2005 - accuracy: 0.9290 - val_loss: 0.3125 - val_accuracy: 0.8972\n",
      "Epoch 15/30\n",
      "7352/7352 [==============================] - 25s 3ms/step - loss: 0.2611 - accuracy: 0.9159 - val_loss: 0.2801 - val_accuracy: 0.9114\n",
      "Epoch 16/30\n",
      "7352/7352 [==============================] - 24s 3ms/step - loss: 0.1664 - accuracy: 0.9402 - val_loss: 0.3583 - val_accuracy: 0.9013\n",
      "Epoch 17/30\n",
      "7352/7352 [==============================] - 24s 3ms/step - loss: 0.1681 - accuracy: 0.9407 - val_loss: 0.2866 - val_accuracy: 0.9223\n",
      "Epoch 18/30\n",
      "7352/7352 [==============================] - 24s 3ms/step - loss: 0.1709 - accuracy: 0.9361 - val_loss: 0.3174 - val_accuracy: 0.9199\n",
      "Epoch 19/30\n",
      "7352/7352 [==============================] - 24s 3ms/step - loss: 0.1852 - accuracy: 0.9348 - val_loss: 0.3717 - val_accuracy: 0.9026\n",
      "Epoch 20/30\n",
      "7352/7352 [==============================] - 24s 3ms/step - loss: 0.1833 - accuracy: 0.9340 - val_loss: 0.4566 - val_accuracy: 0.8426\n",
      "Epoch 21/30\n",
      "7352/7352 [==============================] - 24s 3ms/step - loss: 0.2605 - accuracy: 0.9158 - val_loss: 0.3185 - val_accuracy: 0.9084\n",
      "Epoch 22/30\n",
      "7352/7352 [==============================] - 24s 3ms/step - loss: 0.2202 - accuracy: 0.9233 - val_loss: 0.4125 - val_accuracy: 0.8985\n",
      "Epoch 23/30\n",
      "7352/7352 [==============================] - 24s 3ms/step - loss: 0.2080 - accuracy: 0.9283 - val_loss: 0.2724 - val_accuracy: 0.9162\n",
      "Epoch 24/30\n",
      "7352/7352 [==============================] - 24s 3ms/step - loss: 0.1731 - accuracy: 0.9358 - val_loss: 0.2522 - val_accuracy: 0.9230\n",
      "Epoch 25/30\n",
      "7352/7352 [==============================] - 24s 3ms/step - loss: 0.1590 - accuracy: 0.9399 - val_loss: 0.2070 - val_accuracy: 0.9240\n",
      "Epoch 26/30\n",
      "7352/7352 [==============================] - 24s 3ms/step - loss: 0.1934 - accuracy: 0.9274 - val_loss: 0.2364 - val_accuracy: 0.9084\n",
      "Epoch 27/30\n",
      "7352/7352 [==============================] - 24s 3ms/step - loss: 0.1454 - accuracy: 0.9412 - val_loss: 0.2487 - val_accuracy: 0.9158\n",
      "Epoch 28/30\n",
      "7352/7352 [==============================] - 24s 3ms/step - loss: 0.1742 - accuracy: 0.9295 - val_loss: 0.2555 - val_accuracy: 0.9125\n",
      "Epoch 29/30\n",
      "7352/7352 [==============================] - 24s 3ms/step - loss: 0.1569 - accuracy: 0.9392 - val_loss: 0.2654 - val_accuracy: 0.9213\n",
      "Epoch 30/30\n",
      "7352/7352 [==============================] - 24s 3ms/step - loss: 0.1484 - accuracy: 0.9453 - val_loss: 0.2650 - val_accuracy: 0.9264\n"
     ]
    },
    {
     "data": {
      "text/plain": [
       "<keras.callbacks.callbacks.History at 0x7fd3a4d7dda0>"
      ]
     },
     "execution_count": 32,
     "metadata": {},
     "output_type": "execute_result"
    }
   ],
   "source": [
    "model1.fit(X_train,\n",
    "          Y_train,\n",
    "          batch_size=16,\n",
    "          validation_data=(X_test, Y_test),\n",
    "          epochs=30)"
   ]
  },
  {
   "cell_type": "code",
   "execution_count": 33,
   "metadata": {},
   "outputs": [
    {
     "name": "stdout",
     "output_type": "stream",
     "text": [
      "Pred                LAYING  SITTING  STANDING  WALKING  WALKING_DOWNSTAIRS  \\\n",
      "True                                                                         \n",
      "LAYING                 537        0         0        0                   0   \n",
      "SITTING                  0      407        77        0                   0   \n",
      "STANDING                 0       90       442        0                   0   \n",
      "WALKING                  0        0         0      469                  25   \n",
      "WALKING_DOWNSTAIRS       0        0         0        2                 418   \n",
      "WALKING_UPSTAIRS         0        0         0        9                   5   \n",
      "\n",
      "Pred                WALKING_UPSTAIRS  \n",
      "True                                  \n",
      "LAYING                             0  \n",
      "SITTING                            7  \n",
      "STANDING                           0  \n",
      "WALKING                            2  \n",
      "WALKING_DOWNSTAIRS                 0  \n",
      "WALKING_UPSTAIRS                 457  \n"
     ]
    }
   ],
   "source": [
    "# Confusion Matrix\n",
    "print(confusion_matrix(Y_test, model1.predict(X_test)))"
   ]
  },
  {
   "cell_type": "code",
   "execution_count": 34,
   "metadata": {},
   "outputs": [
    {
     "name": "stdout",
     "output_type": "stream",
     "text": [
      "2947/2947 [==============================] - 1s 416us/step\n"
     ]
    },
    {
     "data": {
      "text/plain": [
       "[0.26511486830740727, 0.9263657927513123]"
      ]
     },
     "execution_count": 34,
     "metadata": {},
     "output_type": "execute_result"
    }
   ],
   "source": [
    "score1 = model1.evaluate(X_test, Y_test)\n",
    "score1"
   ]
  },
  {
   "cell_type": "markdown",
   "metadata": {},
   "source": [
    "> adding hidden layer"
   ]
  },
  {
   "cell_type": "code",
   "execution_count": 45,
   "metadata": {},
   "outputs": [
    {
     "name": "stdout",
     "output_type": "stream",
     "text": [
      "Model: \"sequential_7\"\n",
      "_________________________________________________________________\n",
      "Layer (type)                 Output Shape              Param #   \n",
      "=================================================================\n",
      "lstm_10 (LSTM)               (None, 128, 64)           18944     \n",
      "_________________________________________________________________\n",
      "batch_normalization_6 (Batch (None, 128, 64)           256       \n",
      "_________________________________________________________________\n",
      "dropout_10 (Dropout)         (None, 128, 64)           0         \n",
      "_________________________________________________________________\n",
      "lstm_11 (LSTM)               (None, 64)                33024     \n",
      "_________________________________________________________________\n",
      "batch_normalization_7 (Batch (None, 64)                256       \n",
      "_________________________________________________________________\n",
      "dropout_11 (Dropout)         (None, 64)                0         \n",
      "_________________________________________________________________\n",
      "dense_7 (Dense)              (None, 6)                 390       \n",
      "=================================================================\n",
      "Total params: 52,870\n",
      "Trainable params: 52,614\n",
      "Non-trainable params: 256\n",
      "_________________________________________________________________\n"
     ]
    }
   ],
   "source": [
    "from keras.layers.normalization import BatchNormalization\n",
    "# Initiliazing the sequential model\n",
    "model2 = Sequential()\n",
    "# Configuring the parameters\n",
    "model2.add(LSTM(64, return_sequences=True, input_shape=(timesteps, input_dim)))\n",
    "# Adding a dropout layer\n",
    "model2.add(BatchNormalization())\n",
    "model2.add(Dropout(0.2))\n",
    "\n",
    "model2.add(LSTM(64))\n",
    "model2.add(BatchNormalization())\n",
    "# Adding a dropout layer\n",
    "model2.add(Dropout(0.2))\n",
    "# Adding a dense output layer with sigmoid activation\n",
    "model2.add(Dense(n_classes, activation='sigmoid'))\n",
    "model2.summary()"
   ]
  },
  {
   "cell_type": "code",
   "execution_count": 46,
   "metadata": {},
   "outputs": [],
   "source": [
    "model2.compile(loss='categorical_crossentropy',\n",
    "              optimizer='Adagrad',\n",
    "              metrics=['accuracy'])"
   ]
  },
  {
   "cell_type": "code",
   "execution_count": 47,
   "metadata": {},
   "outputs": [
    {
     "name": "stdout",
     "output_type": "stream",
     "text": [
      "Train on 7352 samples, validate on 2947 samples\n",
      "Epoch 1/30\n",
      "7352/7352 [==============================] - 57s 8ms/step - loss: 0.8074 - accuracy: 0.6692 - val_loss: 0.8367 - val_accuracy: 0.6580\n",
      "Epoch 2/30\n",
      "7352/7352 [==============================] - 55s 8ms/step - loss: 0.6483 - accuracy: 0.7025 - val_loss: 0.6003 - val_accuracy: 0.7418\n",
      "Epoch 3/30\n",
      "7352/7352 [==============================] - 56s 8ms/step - loss: 0.5080 - accuracy: 0.7983 - val_loss: 0.4321 - val_accuracy: 0.8612\n",
      "Epoch 4/30\n",
      "7352/7352 [==============================] - 56s 8ms/step - loss: 0.3615 - accuracy: 0.8886 - val_loss: 0.3008 - val_accuracy: 0.8972\n",
      "Epoch 5/30\n",
      "7352/7352 [==============================] - 56s 8ms/step - loss: 0.2293 - accuracy: 0.9297 - val_loss: 0.2766 - val_accuracy: 0.9080\n",
      "Epoch 6/30\n",
      "7352/7352 [==============================] - 56s 8ms/step - loss: 0.1940 - accuracy: 0.9324 - val_loss: 0.2366 - val_accuracy: 0.9148\n",
      "Epoch 7/30\n",
      "7352/7352 [==============================] - 56s 8ms/step - loss: 0.1744 - accuracy: 0.9370 - val_loss: 0.2485 - val_accuracy: 0.9141\n",
      "Epoch 8/30\n",
      "7352/7352 [==============================] - 55s 8ms/step - loss: 0.1633 - accuracy: 0.9388 - val_loss: 0.2392 - val_accuracy: 0.9121\n",
      "Epoch 9/30\n",
      "7352/7352 [==============================] - 56s 8ms/step - loss: 0.1589 - accuracy: 0.9410 - val_loss: 0.2305 - val_accuracy: 0.9267\n",
      "Epoch 10/30\n",
      "7352/7352 [==============================] - 56s 8ms/step - loss: 0.1655 - accuracy: 0.9411 - val_loss: 0.2021 - val_accuracy: 0.9131\n",
      "Epoch 11/30\n",
      "7352/7352 [==============================] - 56s 8ms/step - loss: 0.1387 - accuracy: 0.9471 - val_loss: 0.2198 - val_accuracy: 0.9192\n",
      "Epoch 12/30\n",
      "7352/7352 [==============================] - 56s 8ms/step - loss: 0.1371 - accuracy: 0.9483 - val_loss: 0.2253 - val_accuracy: 0.9209\n",
      "Epoch 13/30\n",
      "7352/7352 [==============================] - 56s 8ms/step - loss: 0.1402 - accuracy: 0.9484 - val_loss: 0.2175 - val_accuracy: 0.9311\n",
      "Epoch 14/30\n",
      "7352/7352 [==============================] - 56s 8ms/step - loss: 0.1416 - accuracy: 0.9453 - val_loss: 0.2329 - val_accuracy: 0.9206\n",
      "Epoch 15/30\n",
      "7352/7352 [==============================] - 55s 8ms/step - loss: 0.1357 - accuracy: 0.9493 - val_loss: 0.2560 - val_accuracy: 0.9087\n",
      "Epoch 16/30\n",
      "7352/7352 [==============================] - 55s 8ms/step - loss: 0.1390 - accuracy: 0.9464 - val_loss: 0.1996 - val_accuracy: 0.9257\n",
      "Epoch 17/30\n",
      "7352/7352 [==============================] - 55s 8ms/step - loss: 0.1351 - accuracy: 0.9499 - val_loss: 0.2467 - val_accuracy: 0.9121\n",
      "Epoch 18/30\n",
      "7352/7352 [==============================] - 55s 8ms/step - loss: 0.1319 - accuracy: 0.9483 - val_loss: 0.2088 - val_accuracy: 0.9220\n",
      "Epoch 19/30\n",
      "7352/7352 [==============================] - 55s 7ms/step - loss: 0.1291 - accuracy: 0.9484 - val_loss: 0.2085 - val_accuracy: 0.9220\n",
      "Epoch 20/30\n",
      "7352/7352 [==============================] - 55s 8ms/step - loss: 0.1311 - accuracy: 0.9461 - val_loss: 0.2183 - val_accuracy: 0.9257\n",
      "Epoch 21/30\n",
      "7352/7352 [==============================] - 55s 8ms/step - loss: 0.1290 - accuracy: 0.9487 - val_loss: 0.2282 - val_accuracy: 0.9233\n",
      "Epoch 22/30\n",
      "7352/7352 [==============================] - 55s 8ms/step - loss: 0.1307 - accuracy: 0.9487 - val_loss: 0.2218 - val_accuracy: 0.9196\n",
      "Epoch 23/30\n",
      "7352/7352 [==============================] - 55s 8ms/step - loss: 0.1341 - accuracy: 0.9445 - val_loss: 0.2142 - val_accuracy: 0.9182\n",
      "Epoch 24/30\n",
      "7352/7352 [==============================] - 55s 8ms/step - loss: 0.1311 - accuracy: 0.9480 - val_loss: 0.2125 - val_accuracy: 0.9284\n",
      "Epoch 25/30\n",
      "7352/7352 [==============================] - 55s 8ms/step - loss: 0.1264 - accuracy: 0.9512 - val_loss: 0.3688 - val_accuracy: 0.8951\n",
      "Epoch 26/30\n",
      "7352/7352 [==============================] - 55s 8ms/step - loss: 0.1573 - accuracy: 0.9411 - val_loss: 0.2283 - val_accuracy: 0.9226\n",
      "Epoch 27/30\n",
      "7352/7352 [==============================] - 55s 7ms/step - loss: 0.1243 - accuracy: 0.9472 - val_loss: 0.2044 - val_accuracy: 0.9216\n",
      "Epoch 28/30\n",
      "7352/7352 [==============================] - 55s 8ms/step - loss: 0.1192 - accuracy: 0.9521 - val_loss: 0.2352 - val_accuracy: 0.9233\n",
      "Epoch 29/30\n",
      "7352/7352 [==============================] - 56s 8ms/step - loss: 0.1271 - accuracy: 0.9494 - val_loss: 0.2112 - val_accuracy: 0.9250\n",
      "Epoch 30/30\n",
      "7352/7352 [==============================] - 56s 8ms/step - loss: 0.1268 - accuracy: 0.9497 - val_loss: 0.2354 - val_accuracy: 0.9104\n"
     ]
    },
    {
     "data": {
      "text/plain": [
       "<keras.callbacks.callbacks.History at 0x7fd37bfab240>"
      ]
     },
     "execution_count": 47,
     "metadata": {},
     "output_type": "execute_result"
    }
   ],
   "source": [
    "model2.fit(X_train,\n",
    "          Y_train,\n",
    "          batch_size=16,\n",
    "          validation_data=(X_test, Y_test),\n",
    "          epochs=30)"
   ]
  },
  {
   "cell_type": "code",
   "execution_count": 48,
   "metadata": {},
   "outputs": [
    {
     "name": "stdout",
     "output_type": "stream",
     "text": [
      "Pred                LAYING  SITTING  STANDING  WALKING  WALKING_DOWNSTAIRS  \\\n",
      "True                                                                         \n",
      "LAYING                 537        0         0        0                   0   \n",
      "SITTING                  6      317       161        0                   0   \n",
      "STANDING                 0       45       486        1                   0   \n",
      "WALKING                  0        0         0      471                   5   \n",
      "WALKING_DOWNSTAIRS       0        0         0        0                 416   \n",
      "WALKING_UPSTAIRS         0        2         0        0                  13   \n",
      "\n",
      "Pred                WALKING_UPSTAIRS  \n",
      "True                                  \n",
      "LAYING                             0  \n",
      "SITTING                            7  \n",
      "STANDING                           0  \n",
      "WALKING                           20  \n",
      "WALKING_DOWNSTAIRS                 4  \n",
      "WALKING_UPSTAIRS                 456  \n"
     ]
    }
   ],
   "source": [
    "# Confusion Matrix\n",
    "print(confusion_matrix(Y_test, model2.predict(X_test)))"
   ]
  },
  {
   "cell_type": "code",
   "execution_count": 49,
   "metadata": {},
   "outputs": [
    {
     "name": "stdout",
     "output_type": "stream",
     "text": [
      "2947/2947 [==============================] - 3s 982us/step\n"
     ]
    },
    {
     "data": {
      "text/plain": [
       "[0.23537055982549487, 0.910417377948761]"
      ]
     },
     "execution_count": 49,
     "metadata": {},
     "output_type": "execute_result"
    }
   ],
   "source": [
    "score2 = model2.evaluate(X_test, Y_test)\n",
    "score2"
   ]
  },
  {
   "cell_type": "markdown",
   "metadata": {},
   "source": [
    "> by changing the hyperparameters we can easily gain higher accuracy of 92.43"
   ]
  },
  {
   "cell_type": "code",
   "execution_count": 50,
   "metadata": {},
   "outputs": [],
   "source": [
    "import pandas as pd\n",
    "from matplotlib import pyplot\n",
    "from sklearn.preprocessing import StandardScaler\n",
    "from keras.models import Sequential\n",
    "from keras.layers import Dense\n",
    "from keras.layers import Flatten\n",
    "from keras.layers import Dropout\n",
    "from keras.layers.convolutional import Conv1D\n",
    "from keras.layers.convolutional import MaxPooling1D\n",
    "from keras.utils import to_categorical\n",
    "from keras.models import Sequential\n",
    "from keras.layers import LSTM\n",
    "from keras.layers.core import Dense, Dropout\n",
    "from keras.regularizers import l2,l1\n",
    "import keras\n",
    "from keras.layers import BatchNormalization"
   ]
  },
  {
   "cell_type": "code",
   "execution_count": 51,
   "metadata": {},
   "outputs": [],
   "source": [
    "from sklearn.base import BaseEstimator, TransformerMixin\n",
    "class scaling_tseries_data(BaseEstimator, TransformerMixin):\n",
    "    from sklearn.preprocessing import StandardScaler\n",
    "    def __init__(self):\n",
    "        self.scale = None\n",
    "\n",
    "    def transform(self, X):\n",
    "        temp_X1 = X.reshape((X.shape[0] * X.shape[1], X.shape[2]))\n",
    "        temp_X1 = self.scale.transform(temp_X1)\n",
    "        return temp_X1.reshape(X.shape)\n",
    "\n",
    "    def fit(self, X):\n",
    "        # remove overlaping\n",
    "        remove = int(X.shape[1] / 2)\n",
    "        temp_X = X[:, -remove:, :]\n",
    "        # flatten data\n",
    "        temp_X = temp_X.reshape((temp_X.shape[0] * temp_X.shape[1], temp_X.shape[2]))\n",
    "        scale = StandardScaler()\n",
    "        scale.fit(temp_X)\n",
    "        self.scale = scale\n",
    "        return self"
   ]
  },
  {
   "cell_type": "code",
   "execution_count": 52,
   "metadata": {},
   "outputs": [],
   "source": [
    "Scale = scaling_tseries_data()\n",
    "Scale.fit(X_train)\n",
    "X_train_sc = Scale.transform(X_train)\n",
    "X_test_sc = Scale.transform(X_test)"
   ]
  },
  {
   "cell_type": "code",
   "execution_count": 103,
   "metadata": {},
   "outputs": [
    {
     "name": "stdout",
     "output_type": "stream",
     "text": [
      "Model: \"sequential_20\"\n",
      "_________________________________________________________________\n",
      "Layer (type)                 Output Shape              Param #   \n",
      "=================================================================\n",
      "conv1d_25 (Conv1D)           (None, 124, 128)          5888      \n",
      "_________________________________________________________________\n",
      "conv1d_26 (Conv1D)           (None, 120, 32)           20512     \n",
      "_________________________________________________________________\n",
      "dropout_24 (Dropout)         (None, 120, 32)           0         \n",
      "_________________________________________________________________\n",
      "max_pooling1d_13 (MaxPooling (None, 40, 32)            0         \n",
      "_________________________________________________________________\n",
      "flatten_13 (Flatten)         (None, 1280)              0         \n",
      "_________________________________________________________________\n",
      "dense_32 (Dense)             (None, 16)                20496     \n",
      "_________________________________________________________________\n",
      "dense_33 (Dense)             (None, 6)                 102       \n",
      "=================================================================\n",
      "Total params: 46,998\n",
      "Trainable params: 46,998\n",
      "Non-trainable params: 0\n",
      "_________________________________________________________________\n"
     ]
    }
   ],
   "source": [
    "model = Sequential()\n",
    "model.add(Conv1D(filters=128, kernel_size=5, activation='relu',kernel_initializer='he_uniform',\n",
    "                 kernel_regularizer=l2(0.01),input_shape=(128,9)))\n",
    "model.add(Conv1D(filters=32, kernel_size=5, activation='relu',kernel_regularizer=l2(0.06),kernel_initializer='he_uniform'))\n",
    "model.add(Dropout(0.3))\n",
    "model.add(MaxPooling1D(pool_size=3))\n",
    "model.add(Flatten())\n",
    "model.add(Dense(16, activation='relu'))\n",
    "model.add(Dense(6, activation='softmax'))\n",
    "model.summary()"
   ]
  },
  {
   "cell_type": "code",
   "execution_count": 104,
   "metadata": {},
   "outputs": [],
   "source": [
    "model.compile(loss='categorical_crossentropy', optimizer='adam', metrics=['accuracy'])"
   ]
  },
  {
   "cell_type": "code",
   "execution_count": 105,
   "metadata": {},
   "outputs": [
    {
     "name": "stdout",
     "output_type": "stream",
     "text": [
      "Train on 7352 samples, validate on 2947 samples\n",
      "Epoch 1/30\n",
      "7352/7352 [==============================] - 9s 1ms/step - loss: 2.5121 - accuracy: 0.8433 - val_loss: 1.0140 - val_accuracy: 0.8487\n",
      "Epoch 2/30\n",
      "7352/7352 [==============================] - 8s 1ms/step - loss: 0.4978 - accuracy: 0.9385 - val_loss: 0.5578 - val_accuracy: 0.8717\n",
      "Epoch 3/30\n",
      "7352/7352 [==============================] - 8s 1ms/step - loss: 0.3053 - accuracy: 0.9369 - val_loss: 0.4350 - val_accuracy: 0.8928\n",
      "Epoch 4/30\n",
      "7352/7352 [==============================] - 8s 1ms/step - loss: 0.2584 - accuracy: 0.9404 - val_loss: 0.3485 - val_accuracy: 0.9050\n",
      "Epoch 5/30\n",
      "7352/7352 [==============================] - 8s 1ms/step - loss: 0.2301 - accuracy: 0.9427 - val_loss: 0.3784 - val_accuracy: 0.8833\n",
      "Epoch 6/30\n",
      "7352/7352 [==============================] - 8s 1ms/step - loss: 0.2113 - accuracy: 0.9449 - val_loss: 0.3349 - val_accuracy: 0.8989\n",
      "Epoch 7/30\n",
      "7352/7352 [==============================] - 8s 1ms/step - loss: 0.1983 - accuracy: 0.9470 - val_loss: 0.3507 - val_accuracy: 0.8985\n",
      "Epoch 8/30\n",
      "7352/7352 [==============================] - 8s 1ms/step - loss: 0.1813 - accuracy: 0.9504 - val_loss: 0.3130 - val_accuracy: 0.8955\n",
      "Epoch 9/30\n",
      "7352/7352 [==============================] - 8s 1ms/step - loss: 0.1875 - accuracy: 0.9449 - val_loss: 0.2937 - val_accuracy: 0.9118\n",
      "Epoch 10/30\n",
      "7352/7352 [==============================] - 8s 1ms/step - loss: 0.1672 - accuracy: 0.9531 - val_loss: 0.2825 - val_accuracy: 0.9094\n",
      "Epoch 11/30\n",
      "7352/7352 [==============================] - 8s 1ms/step - loss: 0.1732 - accuracy: 0.9531 - val_loss: 0.2862 - val_accuracy: 0.9016\n",
      "Epoch 12/30\n",
      "7352/7352 [==============================] - 8s 1ms/step - loss: 0.1569 - accuracy: 0.9557 - val_loss: 0.2625 - val_accuracy: 0.9097\n",
      "Epoch 13/30\n",
      "7352/7352 [==============================] - 8s 1ms/step - loss: 0.1544 - accuracy: 0.9538 - val_loss: 0.2553 - val_accuracy: 0.9169\n",
      "Epoch 14/30\n",
      "7352/7352 [==============================] - 8s 1ms/step - loss: 0.1648 - accuracy: 0.9512 - val_loss: 0.3326 - val_accuracy: 0.9033\n",
      "Epoch 15/30\n",
      "7352/7352 [==============================] - 8s 1ms/step - loss: 0.1505 - accuracy: 0.9548 - val_loss: 0.2807 - val_accuracy: 0.9050\n",
      "Epoch 16/30\n",
      "7352/7352 [==============================] - 8s 1ms/step - loss: 0.1477 - accuracy: 0.9548 - val_loss: 0.2768 - val_accuracy: 0.9165\n",
      "Epoch 17/30\n",
      "7352/7352 [==============================] - 8s 1ms/step - loss: 0.1427 - accuracy: 0.9559 - val_loss: 0.2882 - val_accuracy: 0.9125\n",
      "Epoch 18/30\n",
      "7352/7352 [==============================] - 8s 1ms/step - loss: 0.1520 - accuracy: 0.9550 - val_loss: 0.2644 - val_accuracy: 0.9067\n",
      "Epoch 19/30\n",
      "7352/7352 [==============================] - 8s 1ms/step - loss: 0.1442 - accuracy: 0.9550 - val_loss: 0.3108 - val_accuracy: 0.8975\n",
      "Epoch 20/30\n",
      "7352/7352 [==============================] - 8s 1ms/step - loss: 0.1418 - accuracy: 0.9580 - val_loss: 0.2589 - val_accuracy: 0.9230\n",
      "Epoch 21/30\n",
      "7352/7352 [==============================] - 8s 1ms/step - loss: 0.1491 - accuracy: 0.9531 - val_loss: 0.2729 - val_accuracy: 0.9152\n",
      "Epoch 22/30\n",
      "7352/7352 [==============================] - 8s 1ms/step - loss: 0.1392 - accuracy: 0.9563 - val_loss: 0.2601 - val_accuracy: 0.9203\n",
      "Epoch 23/30\n",
      "7352/7352 [==============================] - 8s 1ms/step - loss: 0.1311 - accuracy: 0.9567 - val_loss: 0.2882 - val_accuracy: 0.9189\n",
      "Epoch 24/30\n",
      "7352/7352 [==============================] - 8s 1ms/step - loss: 0.1288 - accuracy: 0.9592 - val_loss: 0.3151 - val_accuracy: 0.9169\n",
      "Epoch 25/30\n",
      "7352/7352 [==============================] - 8s 1ms/step - loss: 0.1499 - accuracy: 0.9551 - val_loss: 0.2920 - val_accuracy: 0.9226\n",
      "Epoch 26/30\n",
      "7352/7352 [==============================] - 8s 1ms/step - loss: 0.1378 - accuracy: 0.9570 - val_loss: 0.2951 - val_accuracy: 0.9121\n",
      "Epoch 27/30\n",
      "7352/7352 [==============================] - 8s 1ms/step - loss: 0.1321 - accuracy: 0.9566 - val_loss: 0.3059 - val_accuracy: 0.9074\n",
      "Epoch 28/30\n",
      "7352/7352 [==============================] - 8s 1ms/step - loss: 0.1258 - accuracy: 0.9581 - val_loss: 0.2781 - val_accuracy: 0.9203\n",
      "Epoch 29/30\n",
      "7352/7352 [==============================] - 8s 1ms/step - loss: 0.1275 - accuracy: 0.9581 - val_loss: 0.3058 - val_accuracy: 0.9087\n",
      "Epoch 30/30\n",
      "7352/7352 [==============================] - 8s 1ms/step - loss: 0.1342 - accuracy: 0.9584 - val_loss: 0.2954 - val_accuracy: 0.9145\n"
     ]
    },
    {
     "data": {
      "text/plain": [
       "<keras.callbacks.callbacks.History at 0x7fd368461438>"
      ]
     },
     "execution_count": 105,
     "metadata": {},
     "output_type": "execute_result"
    }
   ],
   "source": [
    "model.fit(X_train_sc,Y_train, epochs=30, batch_size=16,validation_data=(X_test_sc, Y_test), verbose=1)"
   ]
  },
  {
   "cell_type": "code",
   "execution_count": 106,
   "metadata": {},
   "outputs": [
    {
     "name": "stdout",
     "output_type": "stream",
     "text": [
      "Pred                LAYING  SITTING  STANDING  WALKING  WALKING_DOWNSTAIRS  \\\n",
      "True                                                                         \n",
      "LAYING                 537        0         0        0                   0   \n",
      "SITTING                  0      373       115        0                   0   \n",
      "STANDING                 0       70       462        0                   0   \n",
      "WALKING                  0        0         0      492                   3   \n",
      "WALKING_DOWNSTAIRS       0        0         0       13                 404   \n",
      "WALKING_UPSTAIRS         0       12         0       13                  19   \n",
      "\n",
      "Pred                WALKING_UPSTAIRS  \n",
      "True                                  \n",
      "LAYING                             0  \n",
      "SITTING                            3  \n",
      "STANDING                           0  \n",
      "WALKING                            1  \n",
      "WALKING_DOWNSTAIRS                 3  \n",
      "WALKING_UPSTAIRS                 427  \n"
     ]
    }
   ],
   "source": [
    "print(confusion_matrix(Y_test, model.predict(X_test_sc)))"
   ]
  },
  {
   "cell_type": "code",
   "execution_count": 107,
   "metadata": {},
   "outputs": [
    {
     "name": "stdout",
     "output_type": "stream",
     "text": [
      "2947/2947 [==============================] - 1s 216us/step\n"
     ]
    }
   ],
   "source": [
    "score3 = model.evaluate(X_test_sc,Y_test)"
   ]
  },
  {
   "cell_type": "code",
   "execution_count": 108,
   "metadata": {},
   "outputs": [
    {
     "data": {
      "text/plain": [
       "[0.2953713467495701, 0.9144893288612366]"
      ]
     },
     "execution_count": 108,
     "metadata": {},
     "output_type": "execute_result"
    }
   ],
   "source": [
    "score3"
   ]
  },
  {
   "cell_type": "markdown",
   "metadata": {},
   "source": [
    "# Divide conquer algorithm for the CNN model"
   ]
  },
  {
   "cell_type": "markdown",
   "metadata": {},
   "source": [
    "## - Classification on static and dynamic activities"
   ]
  },
  {
   "cell_type": "code",
   "execution_count": 662,
   "metadata": {},
   "outputs": [
    {
     "name": "stderr",
     "output_type": "stream",
     "text": [
      "/home/shanud6711/.local/lib/python3.5/site-packages/ipykernel_launcher.py:4: FutureWarning: Method .as_matrix will be removed in a future version. Use .values instead.\n",
      "  after removing the cwd from sys.path.\n"
     ]
    }
   ],
   "source": [
    "y = _read_csv('y_train.txt')[0]\n",
    "y[y<=3] = 0\n",
    "y[y>3] = 1\n",
    "Y_train_sd = pd.get_dummies(y).as_matrix()"
   ]
  },
  {
   "cell_type": "code",
   "execution_count": 663,
   "metadata": {},
   "outputs": [
    {
     "name": "stderr",
     "output_type": "stream",
     "text": [
      "/home/shanud6711/.local/lib/python3.5/site-packages/ipykernel_launcher.py:4: FutureWarning: Method .as_matrix will be removed in a future version. Use .values instead.\n",
      "  after removing the cwd from sys.path.\n"
     ]
    }
   ],
   "source": [
    "y = _read_csv('y_test.txt')[0]\n",
    "y[y<=3] = 0\n",
    "y[y>3] = 1\n",
    "Y_test_sd = pd.get_dummies(y).as_matrix()"
   ]
  },
  {
   "cell_type": "code",
   "execution_count": 664,
   "metadata": {},
   "outputs": [
    {
     "name": "stdout",
     "output_type": "stream",
     "text": [
      "Model: \"sequential_1\"\n",
      "_________________________________________________________________\n",
      "Layer (type)                 Output Shape              Param #   \n",
      "=================================================================\n",
      "conv1d_1 (Conv1D)            (None, 126, 32)           896       \n",
      "_________________________________________________________________\n",
      "conv1d_2 (Conv1D)            (None, 124, 32)           3104      \n",
      "_________________________________________________________________\n",
      "dropout_1 (Dropout)          (None, 124, 32)           0         \n",
      "_________________________________________________________________\n",
      "max_pooling1d_1 (MaxPooling1 (None, 62, 32)            0         \n",
      "_________________________________________________________________\n",
      "flatten_1 (Flatten)          (None, 1984)              0         \n",
      "_________________________________________________________________\n",
      "dense_1 (Dense)              (None, 50)                99250     \n",
      "_________________________________________________________________\n",
      "dense_2 (Dense)              (None, 2)                 102       \n",
      "=================================================================\n",
      "Total params: 103,352\n",
      "Trainable params: 103,352\n",
      "Non-trainable params: 0\n",
      "_________________________________________________________________\n"
     ]
    }
   ],
   "source": [
    "K.clear_session()\n",
    "np.random.seed(0)\n",
    "tf.set_random_seed(0)\n",
    "sess = tf.Session(graph=tf.get_default_graph())\n",
    "K.set_session(sess)\n",
    "model = Sequential()\n",
    "model.add(Conv1D(filters=32, kernel_size=3, activation='relu',kernel_initializer='he_uniform',input_shape=(128,9)))\n",
    "model.add(Conv1D(filters=32, kernel_size=3, activation='relu',kernel_initializer='he_uniform'))\n",
    "model.add(Dropout(0.6))\n",
    "model.add(MaxPooling1D(pool_size=2))\n",
    "model.add(Flatten())\n",
    "model.add(Dense(50, activation='relu'))\n",
    "model.add(Dense(2, activation='softmax'))\n",
    "model.summary()"
   ]
  },
  {
   "cell_type": "code",
   "execution_count": 665,
   "metadata": {},
   "outputs": [],
   "source": [
    "model.compile(loss='categorical_crossentropy', optimizer='adam', metrics=['accuracy'])"
   ]
  },
  {
   "cell_type": "code",
   "execution_count": 666,
   "metadata": {},
   "outputs": [
    {
     "name": "stdout",
     "output_type": "stream",
     "text": [
      "Train on 7352 samples, validate on 2947 samples\n",
      "Epoch 1/30\n",
      "7352/7352 [==============================] - 4s 510us/step - loss: 0.0539 - accuracy: 0.9786 - val_loss: 0.0119 - val_accuracy: 0.9980\n",
      "Epoch 2/30\n",
      "7352/7352 [==============================] - 3s 471us/step - loss: 0.0016 - accuracy: 0.9993 - val_loss: 0.0167 - val_accuracy: 0.9956\n",
      "Epoch 3/30\n",
      "7352/7352 [==============================] - 4s 480us/step - loss: 9.4747e-04 - accuracy: 0.9996 - val_loss: 0.0116 - val_accuracy: 0.9976\n",
      "Epoch 4/30\n",
      "7352/7352 [==============================] - 3s 446us/step - loss: 0.0013 - accuracy: 0.9996 - val_loss: 0.0114 - val_accuracy: 0.9980\n",
      "Epoch 5/30\n",
      "7352/7352 [==============================] - 3s 455us/step - loss: 4.1275e-05 - accuracy: 1.0000 - val_loss: 0.0118 - val_accuracy: 0.9983\n",
      "Epoch 6/30\n",
      "7352/7352 [==============================] - 3s 455us/step - loss: 1.4602e-05 - accuracy: 1.0000 - val_loss: 0.0130 - val_accuracy: 0.9983\n",
      "Epoch 7/30\n",
      "7352/7352 [==============================] - 4s 516us/step - loss: 2.6964e-05 - accuracy: 1.0000 - val_loss: 0.0126 - val_accuracy: 0.9983\n",
      "Epoch 8/30\n",
      "7352/7352 [==============================] - 3s 473us/step - loss: 5.1072e-06 - accuracy: 1.0000 - val_loss: 0.0138 - val_accuracy: 0.9983\n",
      "Epoch 9/30\n",
      "7352/7352 [==============================] - 3s 440us/step - loss: 2.8857e-06 - accuracy: 1.0000 - val_loss: 0.0140 - val_accuracy: 0.9983\n",
      "Epoch 10/30\n",
      "7352/7352 [==============================] - 3s 445us/step - loss: 4.1877e-06 - accuracy: 1.0000 - val_loss: 0.0154 - val_accuracy: 0.9983\n",
      "Epoch 11/30\n",
      "7352/7352 [==============================] - 3s 460us/step - loss: 4.5057e-06 - accuracy: 1.0000 - val_loss: 0.0142 - val_accuracy: 0.9983\n",
      "Epoch 12/30\n",
      "7352/7352 [==============================] - 3s 457us/step - loss: 1.4870e-06 - accuracy: 1.0000 - val_loss: 0.0144 - val_accuracy: 0.9983\n",
      "Epoch 13/30\n",
      "7352/7352 [==============================] - 3s 445us/step - loss: 1.1154e-06 - accuracy: 1.0000 - val_loss: 0.0155 - val_accuracy: 0.9983\n",
      "Epoch 14/30\n",
      "7352/7352 [==============================] - 3s 450us/step - loss: 6.6128e-07 - accuracy: 1.0000 - val_loss: 0.0160 - val_accuracy: 0.9983\n",
      "Epoch 15/30\n",
      "7352/7352 [==============================] - 3s 448us/step - loss: 1.3831e-06 - accuracy: 1.0000 - val_loss: 0.0158 - val_accuracy: 0.9983\n",
      "Epoch 16/30\n",
      "7352/7352 [==============================] - 3s 433us/step - loss: 5.1323e-07 - accuracy: 1.0000 - val_loss: 0.0171 - val_accuracy: 0.9983\n",
      "Epoch 17/30\n",
      "7352/7352 [==============================] - 3s 441us/step - loss: 5.0681e-07 - accuracy: 1.0000 - val_loss: 0.0174 - val_accuracy: 0.9983\n",
      "Epoch 18/30\n",
      "7352/7352 [==============================] - 3s 446us/step - loss: 3.6351e-07 - accuracy: 1.0000 - val_loss: 0.0189 - val_accuracy: 0.9983\n",
      "Epoch 19/30\n",
      "7352/7352 [==============================] - 3s 435us/step - loss: 0.0344 - accuracy: 0.9989 - val_loss: 0.0106 - val_accuracy: 0.9976\n",
      "Epoch 20/30\n",
      "7352/7352 [==============================] - 3s 433us/step - loss: 0.0017 - accuracy: 0.9997 - val_loss: 0.0071 - val_accuracy: 0.9986\n",
      "Epoch 21/30\n",
      "7352/7352 [==============================] - 3s 430us/step - loss: 4.2396e-06 - accuracy: 1.0000 - val_loss: 0.0061 - val_accuracy: 0.9986\n",
      "Epoch 22/30\n",
      "7352/7352 [==============================] - 3s 431us/step - loss: 1.8650e-06 - accuracy: 1.0000 - val_loss: 0.0069 - val_accuracy: 0.9986\n",
      "Epoch 23/30\n",
      "7352/7352 [==============================] - 3s 438us/step - loss: 1.1383e-06 - accuracy: 1.0000 - val_loss: 0.0072 - val_accuracy: 0.9986\n",
      "Epoch 24/30\n",
      "7352/7352 [==============================] - 3s 440us/step - loss: 7.7350e-07 - accuracy: 1.0000 - val_loss: 0.0068 - val_accuracy: 0.9986\n",
      "Epoch 25/30\n",
      "7352/7352 [==============================] - 3s 444us/step - loss: 9.2907e-07 - accuracy: 1.0000 - val_loss: 0.0074 - val_accuracy: 0.9986\n",
      "Epoch 26/30\n",
      "7352/7352 [==============================] - 3s 445us/step - loss: 6.1673e-07 - accuracy: 1.0000 - val_loss: 0.0078 - val_accuracy: 0.9986\n",
      "Epoch 27/30\n",
      "7352/7352 [==============================] - 3s 446us/step - loss: 2.2000e-07 - accuracy: 1.0000 - val_loss: 0.0080 - val_accuracy: 0.9986\n",
      "Epoch 28/30\n",
      "7352/7352 [==============================] - 3s 451us/step - loss: 1.2798e-07 - accuracy: 1.0000 - val_loss: 0.0082 - val_accuracy: 0.9986\n",
      "Epoch 29/30\n",
      "7352/7352 [==============================] - 3s 446us/step - loss: 1.1533e-07 - accuracy: 1.0000 - val_loss: 0.0082 - val_accuracy: 0.9986\n",
      "Epoch 30/30\n",
      "7352/7352 [==============================] - 3s 445us/step - loss: 2.0668e-07 - accuracy: 1.0000 - val_loss: 0.0085 - val_accuracy: 0.9986\n"
     ]
    },
    {
     "data": {
      "text/plain": [
       "<keras.callbacks.callbacks.History at 0x7fd258e53e48>"
      ]
     },
     "execution_count": 666,
     "metadata": {},
     "output_type": "execute_result"
    }
   ],
   "source": [
    "model.fit(X_train_sc,Y_train_sd, epochs=30, batch_size=16,validation_data=(X_test_sc, Y_test_sd), verbose=1)"
   ]
  },
  {
   "cell_type": "code",
   "execution_count": 667,
   "metadata": {},
   "outputs": [
    {
     "name": "stdout",
     "output_type": "stream",
     "text": [
      "2947/2947 [==============================] - 0s 84us/step\n"
     ]
    },
    {
     "data": {
      "text/plain": [
       "[0.008455163890011538, 0.9986426830291748]"
      ]
     },
     "execution_count": 667,
     "metadata": {},
     "output_type": "execute_result"
    }
   ],
   "source": [
    "score4 = model.evaluate(X_test_sc,Y_test_sd)\n",
    "score4"
   ]
  },
  {
   "cell_type": "code",
   "execution_count": 668,
   "metadata": {},
   "outputs": [],
   "source": [
    "model.save('model_2_activity.h5')"
   ]
  },
  {
   "cell_type": "markdown",
   "metadata": {},
   "source": [
    "## - classifiaction on static activities"
   ]
  },
  {
   "cell_type": "code",
   "execution_count": 669,
   "metadata": {},
   "outputs": [
    {
     "name": "stderr",
     "output_type": "stream",
     "text": [
      "/home/shanud6711/.local/lib/python3.5/site-packages/ipykernel_launcher.py:4: FutureWarning: Method .as_matrix will be removed in a future version. Use .values instead.\n",
      "  after removing the cwd from sys.path.\n"
     ]
    }
   ],
   "source": [
    "y = _read_csv('y_train.txt')[0]\n",
    "y_tr_sb = y>3\n",
    "y = y[y>3]\n",
    "Y_train_stat = pd.get_dummies(y).as_matrix()"
   ]
  },
  {
   "cell_type": "code",
   "execution_count": 670,
   "metadata": {},
   "outputs": [
    {
     "name": "stderr",
     "output_type": "stream",
     "text": [
      "/home/shanud6711/.local/lib/python3.5/site-packages/ipykernel_launcher.py:4: FutureWarning: Method .as_matrix will be removed in a future version. Use .values instead.\n",
      "  after removing the cwd from sys.path.\n"
     ]
    }
   ],
   "source": [
    "y = _read_csv('y_test.txt')[0]\n",
    "y_te_sb = y>3\n",
    "y = y[y>3]\n",
    "Y_test_stat = pd.get_dummies(y).as_matrix()"
   ]
  },
  {
   "cell_type": "code",
   "execution_count": 671,
   "metadata": {},
   "outputs": [],
   "source": [
    "X_train_stat = X_train_sc[y_tr_sb]\n",
    "X_test_stat = X_test_sc[y_te_sb]"
   ]
  },
  {
   "cell_type": "code",
   "execution_count": 672,
   "metadata": {},
   "outputs": [
    {
     "data": {
      "text/plain": [
       "((4067, 128, 9), (4067, 3))"
      ]
     },
     "execution_count": 672,
     "metadata": {},
     "output_type": "execute_result"
    }
   ],
   "source": [
    "X_train_stat.shape , Y_train_stat.shape"
   ]
  },
  {
   "cell_type": "code",
   "execution_count": 673,
   "metadata": {},
   "outputs": [
    {
     "data": {
      "text/plain": [
       "(1560, 128, 9)"
      ]
     },
     "execution_count": 673,
     "metadata": {},
     "output_type": "execute_result"
    }
   ],
   "source": [
    "X_test_stat.shape"
   ]
  },
  {
   "cell_type": "code",
   "execution_count": 674,
   "metadata": {},
   "outputs": [
    {
     "data": {
      "text/plain": [
       "(1560, 3)"
      ]
     },
     "execution_count": 674,
     "metadata": {},
     "output_type": "execute_result"
    }
   ],
   "source": [
    "Y_test_stat.shape"
   ]
  },
  {
   "cell_type": "code",
   "execution_count": 675,
   "metadata": {},
   "outputs": [
    {
     "name": "stdout",
     "output_type": "stream",
     "text": [
      "Model: \"sequential_1\"\n",
      "_________________________________________________________________\n",
      "Layer (type)                 Output Shape              Param #   \n",
      "=================================================================\n",
      "conv1d_1 (Conv1D)            (None, 126, 30)           840       \n",
      "_________________________________________________________________\n",
      "conv1d_2 (Conv1D)            (None, 122, 50)           7550      \n",
      "_________________________________________________________________\n",
      "conv1d_3 (Conv1D)            (None, 120, 100)          15100     \n",
      "_________________________________________________________________\n",
      "flatten_1 (Flatten)          (None, 12000)             0         \n",
      "_________________________________________________________________\n",
      "dense_1 (Dense)              (None, 50)                600050    \n",
      "_________________________________________________________________\n",
      "dropout_1 (Dropout)          (None, 50)                0         \n",
      "_________________________________________________________________\n",
      "dense_2 (Dense)              (None, 3)                 153       \n",
      "=================================================================\n",
      "Total params: 623,693\n",
      "Trainable params: 623,693\n",
      "Non-trainable params: 0\n",
      "_________________________________________________________________\n"
     ]
    }
   ],
   "source": [
    "K.clear_session()\n",
    "#np.random.seed(10)\n",
    "#tf.set_random_seed(10)\n",
    "sess = tf.Session(graph=tf.get_default_graph())\n",
    "K.set_session(sess)\n",
    "model1 = Sequential()\n",
    "model1.add(Conv1D(filters=30, kernel_size=3, activation='relu', kernel_initializer='he_uniform',input_shape=(128,9)))\n",
    "model1.add(Conv1D(filters=50, kernel_size=5, activation='relu', kernel_initializer='he_uniform'))\n",
    "model1.add(Conv1D(filters=100, kernel_size=3, activation='relu', kernel_initializer='he_uniform'))\n",
    "model1.add(Flatten())\n",
    "model1.add(Dense(50, activation='relu'))\n",
    "model1.add(Dropout(0.5))\n",
    "model1.add(Dense(3, activation='softmax'))\n",
    "model1.summary()"
   ]
  },
  {
   "cell_type": "code",
   "execution_count": 676,
   "metadata": {},
   "outputs": [],
   "source": [
    "adam = keras.optimizers.Adam(lr=0.001)\n",
    "from keras.optimizers import SGD\n",
    "adadelta = keras.optimizers.Adadelta(learning_rate=1.0, rho=0.95)\n",
    "nadam = keras.optimizers.Nadam(learning_rate=0.002, beta_1=0.9, beta_2=0.999)\n",
    "opt = SGD(lr=0.01, decay=1e-6, momentum=0.9, nesterov=True)\n",
    "model1.compile(loss='categorical_crossentropy', optimizer= adam, metrics=['accuracy'])"
   ]
  },
  {
   "cell_type": "code",
   "execution_count": 677,
   "metadata": {},
   "outputs": [
    {
     "name": "stdout",
     "output_type": "stream",
     "text": [
      "Train on 4067 samples, validate on 1560 samples\n",
      "Epoch 1/50\n",
      "4067/4067 [==============================] - 5s 1ms/step - loss: 0.3059 - accuracy: 0.8736 - val_loss: 0.6930 - val_accuracy: 0.8756\n",
      "Epoch 2/50\n",
      "4067/4067 [==============================] - 4s 1ms/step - loss: 0.2277 - accuracy: 0.9046 - val_loss: 1.4969 - val_accuracy: 0.8737\n",
      "Epoch 3/50\n",
      "4067/4067 [==============================] - 4s 1ms/step - loss: 0.1808 - accuracy: 0.9181 - val_loss: 1.4228 - val_accuracy: 0.8667\n",
      "Epoch 4/50\n",
      "4067/4067 [==============================] - 4s 1ms/step - loss: 0.1593 - accuracy: 0.9208 - val_loss: 0.7101 - val_accuracy: 0.8859\n",
      "Epoch 5/50\n",
      "4067/4067 [==============================] - 4s 1ms/step - loss: 0.1448 - accuracy: 0.9282 - val_loss: 0.8538 - val_accuracy: 0.8731\n",
      "Epoch 6/50\n",
      "4067/4067 [==============================] - 4s 1ms/step - loss: 0.1338 - accuracy: 0.9390 - val_loss: 1.0960 - val_accuracy: 0.8628\n",
      "Epoch 7/50\n",
      "4067/4067 [==============================] - 4s 1ms/step - loss: 0.1242 - accuracy: 0.9420 - val_loss: 2.5502 - val_accuracy: 0.8737\n",
      "Epoch 8/50\n",
      "4067/4067 [==============================] - 4s 1ms/step - loss: 0.1325 - accuracy: 0.9343 - val_loss: 1.3494 - val_accuracy: 0.8654\n",
      "Epoch 9/50\n",
      "4067/4067 [==============================] - 4s 1ms/step - loss: 0.1058 - accuracy: 0.9489 - val_loss: 1.7069 - val_accuracy: 0.8603\n",
      "Epoch 10/50\n",
      "4067/4067 [==============================] - 4s 1ms/step - loss: 0.1422 - accuracy: 0.9361 - val_loss: 0.9248 - val_accuracy: 0.8744\n",
      "Epoch 11/50\n",
      "4067/4067 [==============================] - 4s 1ms/step - loss: 0.1150 - accuracy: 0.9432 - val_loss: 1.3513 - val_accuracy: 0.8353\n",
      "Epoch 12/50\n",
      "4067/4067 [==============================] - 4s 1ms/step - loss: 0.1026 - accuracy: 0.9486 - val_loss: 1.4360 - val_accuracy: 0.8737\n",
      "Epoch 13/50\n",
      "4067/4067 [==============================] - 4s 1ms/step - loss: 0.1007 - accuracy: 0.9508 - val_loss: 1.4826 - val_accuracy: 0.8744\n",
      "Epoch 14/50\n",
      "4067/4067 [==============================] - 4s 1ms/step - loss: 0.1052 - accuracy: 0.9486 - val_loss: 1.4492 - val_accuracy: 0.8673\n",
      "Epoch 15/50\n",
      "4067/4067 [==============================] - 4s 1ms/step - loss: 0.0990 - accuracy: 0.9459 - val_loss: 1.4393 - val_accuracy: 0.8872\n",
      "Epoch 16/50\n",
      "4067/4067 [==============================] - 4s 1ms/step - loss: 0.0888 - accuracy: 0.9506 - val_loss: 1.8132 - val_accuracy: 0.8679\n",
      "Epoch 17/50\n",
      "4067/4067 [==============================] - 4s 1ms/step - loss: 0.0986 - accuracy: 0.9508 - val_loss: 0.9677 - val_accuracy: 0.8776\n",
      "Epoch 18/50\n",
      "4067/4067 [==============================] - 4s 1ms/step - loss: 0.0904 - accuracy: 0.9550 - val_loss: 1.2426 - val_accuracy: 0.8872\n",
      "Epoch 19/50\n",
      "4067/4067 [==============================] - 4s 1ms/step - loss: 0.0744 - accuracy: 0.9599 - val_loss: 1.6272 - val_accuracy: 0.8705\n",
      "Epoch 20/50\n",
      "4067/4067 [==============================] - 4s 1ms/step - loss: 0.0718 - accuracy: 0.9646 - val_loss: 1.4799 - val_accuracy: 0.8776\n",
      "Epoch 21/50\n",
      "4067/4067 [==============================] - 4s 1ms/step - loss: 0.0674 - accuracy: 0.9641 - val_loss: 1.6119 - val_accuracy: 0.8981\n",
      "Epoch 22/50\n",
      "4067/4067 [==============================] - 4s 1ms/step - loss: 0.0744 - accuracy: 0.9626 - val_loss: 1.3944 - val_accuracy: 0.8840\n",
      "Epoch 23/50\n",
      "4067/4067 [==============================] - 4s 1ms/step - loss: 0.1272 - accuracy: 0.9543 - val_loss: 1.4869 - val_accuracy: 0.8904\n",
      "Epoch 24/50\n",
      "4067/4067 [==============================] - 4s 1ms/step - loss: 0.0673 - accuracy: 0.9747 - val_loss: 2.7595 - val_accuracy: 0.8827\n",
      "Epoch 25/50\n",
      "4067/4067 [==============================] - 4s 1ms/step - loss: 0.0708 - accuracy: 0.9754 - val_loss: 2.0336 - val_accuracy: 0.8929\n",
      "Epoch 26/50\n",
      "4067/4067 [==============================] - 4s 1ms/step - loss: 0.0617 - accuracy: 0.9752 - val_loss: 2.5382 - val_accuracy: 0.8731\n",
      "Epoch 27/50\n",
      "4067/4067 [==============================] - 4s 1ms/step - loss: 0.0511 - accuracy: 0.9825 - val_loss: 2.3767 - val_accuracy: 0.8885\n",
      "Epoch 28/50\n",
      "4067/4067 [==============================] - 4s 1ms/step - loss: 0.0624 - accuracy: 0.9786 - val_loss: 2.0915 - val_accuracy: 0.8859\n",
      "Epoch 29/50\n",
      "4067/4067 [==============================] - 4s 1ms/step - loss: 0.0723 - accuracy: 0.9717 - val_loss: 1.7648 - val_accuracy: 0.9058\n",
      "Epoch 30/50\n",
      "4067/4067 [==============================] - 4s 1ms/step - loss: 0.0904 - accuracy: 0.9636 - val_loss: 1.2428 - val_accuracy: 0.9006\n",
      "Epoch 31/50\n",
      "4067/4067 [==============================] - 4s 1ms/step - loss: 0.0684 - accuracy: 0.9747 - val_loss: 1.7873 - val_accuracy: 0.8936\n",
      "Epoch 32/50\n",
      "4067/4067 [==============================] - 4s 1ms/step - loss: 0.0607 - accuracy: 0.9769 - val_loss: 2.2159 - val_accuracy: 0.9077\n",
      "Epoch 33/50\n",
      "4067/4067 [==============================] - 4s 1ms/step - loss: 0.0492 - accuracy: 0.9818 - val_loss: 2.2873 - val_accuracy: 0.9096\n",
      "Epoch 34/50\n",
      "4067/4067 [==============================] - 4s 1ms/step - loss: 0.0552 - accuracy: 0.9808 - val_loss: 2.8676 - val_accuracy: 0.8865\n",
      "Epoch 35/50\n",
      "4067/4067 [==============================] - 4s 1ms/step - loss: 0.0495 - accuracy: 0.9808 - val_loss: 2.2868 - val_accuracy: 0.8994\n",
      "Epoch 36/50\n",
      "4067/4067 [==============================] - 4s 1ms/step - loss: 0.0460 - accuracy: 0.9808 - val_loss: 2.5808 - val_accuracy: 0.8968\n",
      "Epoch 37/50\n",
      "4067/4067 [==============================] - 4s 1ms/step - loss: 0.0617 - accuracy: 0.9791 - val_loss: 2.1330 - val_accuracy: 0.9141\n",
      "Epoch 38/50\n",
      "4067/4067 [==============================] - 4s 1ms/step - loss: 0.0394 - accuracy: 0.9848 - val_loss: 1.8544 - val_accuracy: 0.9064\n",
      "Epoch 39/50\n",
      "4067/4067 [==============================] - 4s 1ms/step - loss: 0.0382 - accuracy: 0.9835 - val_loss: 2.6000 - val_accuracy: 0.8955\n",
      "Epoch 40/50\n",
      "4067/4067 [==============================] - 4s 1ms/step - loss: 0.0425 - accuracy: 0.9860 - val_loss: 2.5075 - val_accuracy: 0.9173\n",
      "Epoch 41/50\n",
      "4067/4067 [==============================] - 4s 1ms/step - loss: 0.0391 - accuracy: 0.9872 - val_loss: 2.8521 - val_accuracy: 0.9026\n",
      "Epoch 42/50\n",
      "4067/4067 [==============================] - 4s 1ms/step - loss: 0.0315 - accuracy: 0.9875 - val_loss: 2.4691 - val_accuracy: 0.9141\n",
      "Epoch 43/50\n",
      "4067/4067 [==============================] - 4s 1ms/step - loss: 0.0555 - accuracy: 0.9857 - val_loss: 2.1827 - val_accuracy: 0.9013\n",
      "Epoch 44/50\n",
      "4067/4067 [==============================] - 4s 1ms/step - loss: 0.0472 - accuracy: 0.9870 - val_loss: 3.5366 - val_accuracy: 0.8962\n",
      "Epoch 45/50\n",
      "4067/4067 [==============================] - 4s 1ms/step - loss: 0.0397 - accuracy: 0.9877 - val_loss: 2.2344 - val_accuracy: 0.9032\n",
      "Epoch 46/50\n",
      "4067/4067 [==============================] - 4s 1ms/step - loss: 0.0800 - accuracy: 0.9761 - val_loss: 6.1570 - val_accuracy: 0.8712\n",
      "Epoch 47/50\n",
      "4067/4067 [==============================] - 4s 1ms/step - loss: 0.0274 - accuracy: 0.9909 - val_loss: 5.9400 - val_accuracy: 0.8865\n",
      "Epoch 48/50\n",
      "4067/4067 [==============================] - 4s 1ms/step - loss: 0.0368 - accuracy: 0.9860 - val_loss: 5.0627 - val_accuracy: 0.8897\n",
      "Epoch 49/50\n",
      "4067/4067 [==============================] - 4s 1ms/step - loss: 0.0249 - accuracy: 0.9914 - val_loss: 2.1217 - val_accuracy: 0.8846\n",
      "Epoch 50/50\n",
      "4067/4067 [==============================] - 4s 1ms/step - loss: 0.0512 - accuracy: 0.9811 - val_loss: 2.9572 - val_accuracy: 0.9064\n"
     ]
    },
    {
     "data": {
      "text/plain": [
       "<keras.callbacks.callbacks.History at 0x7fd25ed991d0>"
      ]
     },
     "execution_count": 677,
     "metadata": {},
     "output_type": "execute_result"
    }
   ],
   "source": [
    "model1.fit(X_train_stat,Y_train_stat, epochs=50, batch_size=32,validation_data=(X_test_stat, Y_test_stat), verbose=1)"
   ]
  },
  {
   "cell_type": "code",
   "execution_count": 678,
   "metadata": {},
   "outputs": [],
   "source": [
    "model1.save('model_2_static.h5')"
   ]
  },
  {
   "cell_type": "markdown",
   "metadata": {},
   "source": [
    "## - classifiaction on dynamic activities"
   ]
  },
  {
   "cell_type": "code",
   "execution_count": 679,
   "metadata": {},
   "outputs": [
    {
     "name": "stderr",
     "output_type": "stream",
     "text": [
      "/home/shanud6711/.local/lib/python3.5/site-packages/ipykernel_launcher.py:4: FutureWarning: Method .as_matrix will be removed in a future version. Use .values instead.\n",
      "  after removing the cwd from sys.path.\n"
     ]
    }
   ],
   "source": [
    "y = _read_csv('y_train.txt')[0]\n",
    "y_tr_dy = y<=3\n",
    "y = y[y<=3]\n",
    "Y_train_dynamic = pd.get_dummies(y).as_matrix()"
   ]
  },
  {
   "cell_type": "code",
   "execution_count": 680,
   "metadata": {},
   "outputs": [
    {
     "name": "stderr",
     "output_type": "stream",
     "text": [
      "/home/shanud6711/.local/lib/python3.5/site-packages/ipykernel_launcher.py:4: FutureWarning: Method .as_matrix will be removed in a future version. Use .values instead.\n",
      "  after removing the cwd from sys.path.\n"
     ]
    }
   ],
   "source": [
    "y = _read_csv('y_test.txt')[0]\n",
    "y_te_dy = y<=3\n",
    "y = y[y<=3]\n",
    "Y_test_dynamic = pd.get_dummies(y).as_matrix()"
   ]
  },
  {
   "cell_type": "code",
   "execution_count": 681,
   "metadata": {},
   "outputs": [],
   "source": [
    "X_train_dynamic = X_train_sc[y_tr_dy]\n",
    "X_test_dynamic = X_test_sc[y_te_dy]"
   ]
  },
  {
   "cell_type": "code",
   "execution_count": 682,
   "metadata": {},
   "outputs": [
    {
     "data": {
      "text/plain": [
       "((3285, 128, 9), (3285, 3))"
      ]
     },
     "execution_count": 682,
     "metadata": {},
     "output_type": "execute_result"
    }
   ],
   "source": [
    "X_train_dynamic.shape, Y_train_dynamic.shape"
   ]
  },
  {
   "cell_type": "code",
   "execution_count": 683,
   "metadata": {},
   "outputs": [
    {
     "data": {
      "text/plain": [
       "((1387, 128, 9), (1387, 3))"
      ]
     },
     "execution_count": 683,
     "metadata": {},
     "output_type": "execute_result"
    }
   ],
   "source": [
    "X_test_dynamic.shape, Y_test_dynamic.shape"
   ]
  },
  {
   "cell_type": "code",
   "execution_count": 684,
   "metadata": {},
   "outputs": [
    {
     "name": "stdout",
     "output_type": "stream",
     "text": [
      "Model: \"sequential_1\"\n",
      "_________________________________________________________________\n",
      "Layer (type)                 Output Shape              Param #   \n",
      "=================================================================\n",
      "conv1d_1 (Conv1D)            (None, 126, 30)           840       \n",
      "_________________________________________________________________\n",
      "conv1d_2 (Conv1D)            (None, 122, 50)           7550      \n",
      "_________________________________________________________________\n",
      "conv1d_3 (Conv1D)            (None, 120, 100)          15100     \n",
      "_________________________________________________________________\n",
      "flatten_1 (Flatten)          (None, 12000)             0         \n",
      "_________________________________________________________________\n",
      "dense_1 (Dense)              (None, 50)                600050    \n",
      "_________________________________________________________________\n",
      "dropout_1 (Dropout)          (None, 50)                0         \n",
      "_________________________________________________________________\n",
      "dense_2 (Dense)              (None, 3)                 153       \n",
      "=================================================================\n",
      "Total params: 623,693\n",
      "Trainable params: 623,693\n",
      "Non-trainable params: 0\n",
      "_________________________________________________________________\n"
     ]
    }
   ],
   "source": [
    "K.clear_session()\n",
    "np.random.seed(10)\n",
    "tf.set_random_seed(10)\n",
    "sess = tf.Session(graph=tf.get_default_graph())\n",
    "K.set_session(sess)\n",
    "model = Sequential()\n",
    "model.add(Conv1D(filters=30, kernel_size=3, activation='relu',kernel_initializer='he_uniform',input_shape=(128,9)))\n",
    "model.add(Conv1D(filters=50, kernel_size=5, activation='relu',kernel_initializer='he_uniform'))\n",
    "model.add(Conv1D(filters=100, kernel_size=3, activation='relu',kernel_initializer='he_uniform'))\n",
    "model.add(Flatten())\n",
    "model.add(Dense(50, activation='relu'))\n",
    "model.add(Dropout(0.5))\n",
    "model.add(Dense(3, activation='softmax'))\n",
    "model.summary()"
   ]
  },
  {
   "cell_type": "code",
   "execution_count": 685,
   "metadata": {},
   "outputs": [],
   "source": [
    "model.compile(loss='categorical_crossentropy', optimizer='adadelta', metrics=['accuracy'])"
   ]
  },
  {
   "cell_type": "code",
   "execution_count": 686,
   "metadata": {},
   "outputs": [
    {
     "name": "stdout",
     "output_type": "stream",
     "text": [
      "Train on 3285 samples, validate on 1387 samples\n",
      "Epoch 1/50\n",
      "3285/3285 [==============================] - 4s 1ms/step - loss: 1.0717 - accuracy: 0.4557 - val_loss: 0.7277 - val_accuracy: 0.6482\n",
      "Epoch 2/50\n",
      "3285/3285 [==============================] - 4s 1ms/step - loss: 0.6345 - accuracy: 0.6685 - val_loss: 0.3201 - val_accuracy: 0.9286\n",
      "Epoch 3/50\n",
      "3285/3285 [==============================] - 4s 1ms/step - loss: 0.2033 - accuracy: 0.9205 - val_loss: 0.2088 - val_accuracy: 0.9524\n",
      "Epoch 4/50\n",
      "3285/3285 [==============================] - 4s 1ms/step - loss: 0.0643 - accuracy: 0.9711 - val_loss: 0.3454 - val_accuracy: 0.9524\n",
      "Epoch 5/50\n",
      "3285/3285 [==============================] - 4s 1ms/step - loss: 0.0547 - accuracy: 0.9735 - val_loss: 0.2960 - val_accuracy: 0.9640\n",
      "Epoch 6/50\n",
      "3285/3285 [==============================] - 4s 1ms/step - loss: 0.0449 - accuracy: 0.9799 - val_loss: 0.2723 - val_accuracy: 0.9676\n",
      "Epoch 7/50\n",
      "3285/3285 [==============================] - 4s 1ms/step - loss: 0.0379 - accuracy: 0.9839 - val_loss: 0.3921 - val_accuracy: 0.9690\n",
      "Epoch 8/50\n",
      "3285/3285 [==============================] - 4s 1ms/step - loss: 0.0389 - accuracy: 0.9808 - val_loss: 0.2914 - val_accuracy: 0.9676\n",
      "Epoch 9/50\n",
      "3285/3285 [==============================] - 4s 1ms/step - loss: 0.0297 - accuracy: 0.9890 - val_loss: 0.3934 - val_accuracy: 0.9690\n",
      "Epoch 10/50\n",
      "3285/3285 [==============================] - 4s 1ms/step - loss: 0.0220 - accuracy: 0.9924 - val_loss: 0.4450 - val_accuracy: 0.9618\n",
      "Epoch 11/50\n",
      "3285/3285 [==============================] - 4s 1ms/step - loss: 0.0255 - accuracy: 0.9906 - val_loss: 0.4025 - val_accuracy: 0.9712\n",
      "Epoch 12/50\n",
      "3285/3285 [==============================] - 4s 1ms/step - loss: 0.0215 - accuracy: 0.9930 - val_loss: 0.4076 - val_accuracy: 0.9704\n",
      "Epoch 13/50\n",
      "3285/3285 [==============================] - 4s 1ms/step - loss: 0.0206 - accuracy: 0.9948 - val_loss: 0.4539 - val_accuracy: 0.9740\n",
      "Epoch 14/50\n",
      "3285/3285 [==============================] - 4s 1ms/step - loss: 0.0218 - accuracy: 0.9927 - val_loss: 0.4322 - val_accuracy: 0.9683\n",
      "Epoch 15/50\n",
      "3285/3285 [==============================] - 4s 1ms/step - loss: 0.0181 - accuracy: 0.9948 - val_loss: 0.2788 - val_accuracy: 0.9748\n",
      "Epoch 16/50\n",
      "3285/3285 [==============================] - 4s 1ms/step - loss: 0.0170 - accuracy: 0.9954 - val_loss: 0.3811 - val_accuracy: 0.9704\n",
      "Epoch 17/50\n",
      "3285/3285 [==============================] - 4s 1ms/step - loss: 0.0192 - accuracy: 0.9967 - val_loss: 0.3979 - val_accuracy: 0.9697\n",
      "Epoch 18/50\n",
      "3285/3285 [==============================] - 4s 1ms/step - loss: 0.0152 - accuracy: 0.9954 - val_loss: 0.4796 - val_accuracy: 0.9690\n",
      "Epoch 19/50\n",
      "3285/3285 [==============================] - 4s 1ms/step - loss: 0.0166 - accuracy: 0.9942 - val_loss: 0.4422 - val_accuracy: 0.9726\n",
      "Epoch 20/50\n",
      "3285/3285 [==============================] - 4s 1ms/step - loss: 0.0189 - accuracy: 0.9960 - val_loss: 0.3542 - val_accuracy: 0.9762\n",
      "Epoch 21/50\n",
      "3285/3285 [==============================] - 4s 1ms/step - loss: 0.0160 - accuracy: 0.9954 - val_loss: 0.4564 - val_accuracy: 0.9380\n",
      "Epoch 22/50\n",
      "3285/3285 [==============================] - 4s 1ms/step - loss: 0.0117 - accuracy: 0.9960 - val_loss: 0.4319 - val_accuracy: 0.9762\n",
      "Epoch 23/50\n",
      "3285/3285 [==============================] - 4s 1ms/step - loss: 0.0169 - accuracy: 0.9948 - val_loss: 0.4342 - val_accuracy: 0.9690\n",
      "Epoch 24/50\n",
      "3285/3285 [==============================] - 4s 1ms/step - loss: 0.0165 - accuracy: 0.9970 - val_loss: 0.4857 - val_accuracy: 0.9733\n",
      "Epoch 25/50\n",
      "3285/3285 [==============================] - 4s 1ms/step - loss: 0.0103 - accuracy: 0.9967 - val_loss: 0.4570 - val_accuracy: 0.9762\n",
      "Epoch 26/50\n",
      "3285/3285 [==============================] - 4s 1ms/step - loss: 0.0112 - accuracy: 0.9973 - val_loss: 0.5048 - val_accuracy: 0.9769\n",
      "Epoch 27/50\n",
      "3285/3285 [==============================] - 4s 1ms/step - loss: 0.0110 - accuracy: 0.9970 - val_loss: 0.5156 - val_accuracy: 0.9748\n",
      "Epoch 28/50\n",
      "3285/3285 [==============================] - 4s 1ms/step - loss: 0.0076 - accuracy: 0.9991 - val_loss: 0.6285 - val_accuracy: 0.9539\n",
      "Epoch 29/50\n",
      "3285/3285 [==============================] - 4s 1ms/step - loss: 0.0162 - accuracy: 0.9967 - val_loss: 0.4889 - val_accuracy: 0.9740\n",
      "Epoch 30/50\n",
      "3285/3285 [==============================] - 4s 1ms/step - loss: 0.0103 - accuracy: 0.9979 - val_loss: 0.5127 - val_accuracy: 0.9762\n",
      "Epoch 31/50\n",
      "3285/3285 [==============================] - 4s 1ms/step - loss: 0.0127 - accuracy: 0.9976 - val_loss: 0.5077 - val_accuracy: 0.9740\n",
      "Epoch 32/50\n",
      "3285/3285 [==============================] - 4s 1ms/step - loss: 0.0109 - accuracy: 0.9973 - val_loss: 0.5794 - val_accuracy: 0.9762\n",
      "Epoch 33/50\n",
      "3285/3285 [==============================] - 4s 1ms/step - loss: 0.0075 - accuracy: 0.9985 - val_loss: 0.6638 - val_accuracy: 0.9654\n",
      "Epoch 34/50\n",
      "3285/3285 [==============================] - 4s 1ms/step - loss: 0.0085 - accuracy: 0.9982 - val_loss: 0.4498 - val_accuracy: 0.9748\n",
      "Epoch 35/50\n",
      "3285/3285 [==============================] - 4s 1ms/step - loss: 0.0101 - accuracy: 0.9979 - val_loss: 0.5371 - val_accuracy: 0.9784\n",
      "Epoch 36/50\n",
      "3285/3285 [==============================] - 4s 1ms/step - loss: 0.0132 - accuracy: 0.9970 - val_loss: 0.6273 - val_accuracy: 0.9712\n",
      "Epoch 37/50\n",
      "3285/3285 [==============================] - 4s 1ms/step - loss: 0.0096 - accuracy: 0.9976 - val_loss: 1.1036 - val_accuracy: 0.9445\n",
      "Epoch 38/50\n",
      "3285/3285 [==============================] - 4s 1ms/step - loss: 0.0110 - accuracy: 0.9970 - val_loss: 0.6631 - val_accuracy: 0.9740\n",
      "Epoch 39/50\n",
      "3285/3285 [==============================] - 4s 1ms/step - loss: 0.0099 - accuracy: 0.9973 - val_loss: 0.5575 - val_accuracy: 0.9748\n",
      "Epoch 40/50\n",
      "3285/3285 [==============================] - 4s 1ms/step - loss: 0.0097 - accuracy: 0.9973 - val_loss: 0.6359 - val_accuracy: 0.9755\n",
      "Epoch 41/50\n",
      "3285/3285 [==============================] - 4s 1ms/step - loss: 0.0117 - accuracy: 0.9963 - val_loss: 0.6212 - val_accuracy: 0.9733\n",
      "Epoch 42/50\n",
      "3285/3285 [==============================] - 4s 1ms/step - loss: 0.0118 - accuracy: 0.9973 - val_loss: 0.8206 - val_accuracy: 0.9654\n",
      "Epoch 43/50\n",
      "3285/3285 [==============================] - 4s 1ms/step - loss: 0.0081 - accuracy: 0.9982 - val_loss: 0.4806 - val_accuracy: 0.9748\n",
      "Epoch 44/50\n",
      "3285/3285 [==============================] - 4s 1ms/step - loss: 0.0084 - accuracy: 0.9976 - val_loss: 0.7400 - val_accuracy: 0.9704\n",
      "Epoch 45/50\n",
      "3285/3285 [==============================] - 4s 1ms/step - loss: 0.0106 - accuracy: 0.9967 - val_loss: 0.3850 - val_accuracy: 0.9755\n",
      "Epoch 46/50\n",
      "3285/3285 [==============================] - 4s 1ms/step - loss: 0.0079 - accuracy: 0.9979 - val_loss: 0.6500 - val_accuracy: 0.9661\n",
      "Epoch 47/50\n",
      "3285/3285 [==============================] - 4s 1ms/step - loss: 0.0065 - accuracy: 0.9991 - val_loss: 0.5841 - val_accuracy: 0.9798\n",
      "Epoch 48/50\n",
      "3285/3285 [==============================] - 4s 1ms/step - loss: 0.0079 - accuracy: 0.9979 - val_loss: 0.6955 - val_accuracy: 0.9704\n",
      "Epoch 49/50\n",
      "3285/3285 [==============================] - 4s 1ms/step - loss: 0.0111 - accuracy: 0.9967 - val_loss: 0.4188 - val_accuracy: 0.9762\n",
      "Epoch 50/50\n",
      "3285/3285 [==============================] - 4s 1ms/step - loss: 0.0101 - accuracy: 0.9967 - val_loss: 0.4173 - val_accuracy: 0.9769\n"
     ]
    },
    {
     "data": {
      "text/plain": [
       "<keras.callbacks.callbacks.History at 0x7fd25db592b0>"
      ]
     },
     "execution_count": 686,
     "metadata": {},
     "output_type": "execute_result"
    }
   ],
   "source": [
    "model.fit(X_train_dynamic,Y_train_dynamic, epochs=50, batch_size=32,validation_data=(X_test_dynamic, Y_test_dynamic), verbose=1)"
   ]
  },
  {
   "cell_type": "code",
   "execution_count": 687,
   "metadata": {},
   "outputs": [],
   "source": [
    "model.save('model_2_dynamic.h5')"
   ]
  },
  {
   "cell_type": "code",
   "execution_count": 688,
   "metadata": {},
   "outputs": [],
   "source": [
    "from keras.models import load_model\n",
    "import pickle\n",
    "model_2class = load_model('model_2_activity.h5')\n",
    "model_static = load_model('model_2_static.h5')\n",
    "model_dynamic = load_model('model_2_dynamic.h5')"
   ]
  },
  {
   "cell_type": "code",
   "execution_count": 689,
   "metadata": {},
   "outputs": [],
   "source": [
    "def predict_activity(X):\n",
    "    predict_st_dy = model_2class.predict(X)\n",
    "    y_pred_st_dy =  np.argmax(predict_st_dy, axis=1)\n",
    "  \n",
    "  #static data\n",
    "    X_static = X[y_pred_st_dy==1]\n",
    "  #dynamic data\n",
    "    X_dynamic = X[y_pred_st_dy==0]\n",
    "  \n",
    "    predict_st = model_static.predict(X_static)\n",
    "    predict_static = np.argmax(predict_st,axis=1)\n",
    "    predict_static_class_label = predict_static + 4\n",
    "  \n",
    "    predict_dy = model_dynamic.predict(X_dynamic)\n",
    "    predict_dynamic = np.argmax(predict_dy,axis=1)\n",
    "    predict_dynamic_class_label = predict_dynamic + 1\n",
    "\n",
    "    i,j = 0,0 \n",
    "    final_pred = []\n",
    "    for pred in y_pred_st_dy:\n",
    "        if pred == 1:\n",
    "            final_pred.append(predict_static_class_label[i])\n",
    "            i = i + 1\n",
    "        else:\n",
    "            final_pred.append(predict_dynamic_class_label[j])\n",
    "            j = j + 1 \n",
    "      \n",
    "    return final_pred  "
   ]
  },
  {
   "cell_type": "code",
   "execution_count": 690,
   "metadata": {},
   "outputs": [
    {
     "data": {
      "text/plain": [
       "((2947, 128, 9), (7352, 128, 9))"
      ]
     },
     "execution_count": 690,
     "metadata": {},
     "output_type": "execute_result"
    }
   ],
   "source": [
    "X_test_sc.shape,X_train_sc.shape"
   ]
  },
  {
   "cell_type": "code",
   "execution_count": 691,
   "metadata": {},
   "outputs": [],
   "source": [
    "Y_train = _read_csv('y_train.txt')[0]\n",
    "Y_test = _read_csv('y_test.txt')[0]"
   ]
  },
  {
   "cell_type": "code",
   "execution_count": 692,
   "metadata": {},
   "outputs": [
    {
     "data": {
      "text/plain": [
       "((7352,), (2947,))"
      ]
     },
     "execution_count": 692,
     "metadata": {},
     "output_type": "execute_result"
    }
   ],
   "source": [
    "Y_train.shape,Y_test.shape"
   ]
  },
  {
   "cell_type": "code",
   "execution_count": 693,
   "metadata": {},
   "outputs": [],
   "source": [
    "##predicting \n",
    "final_pred_test = predict_activity(X_test_sc)\n",
    "final_pred_train = predict_activity(X_train_sc)"
   ]
  },
  {
   "cell_type": "code",
   "execution_count": 694,
   "metadata": {},
   "outputs": [
    {
     "name": "stdout",
     "output_type": "stream",
     "text": [
      "Accuracy of train data 0.9948313384113167\n",
      "Accuracy of test data 0.9395995928062436\n"
     ]
    }
   ],
   "source": [
    "##accuracy of train and test\n",
    "from sklearn.metrics import accuracy_score\n",
    "print('Accuracy of train data',accuracy_score(Y_train,final_pred_train))\n",
    "print('Accuracy of test data',accuracy_score(Y_test,final_pred_test))"
   ]
  },
  {
   "cell_type": "code",
   "execution_count": 695,
   "metadata": {},
   "outputs": [
    {
     "data": {
      "text/plain": [
       "array([[495,   0,   1,   0,   0,   0],\n",
       "       [  1, 442,  28,   0,   0,   0],\n",
       "       [  2,   0, 418,   0,   0,   0],\n",
       "       [  0,   3,   0, 406,  82,   0],\n",
       "       [  1,   0,   0,  56, 475,   0],\n",
       "       [  0,   0,   0,   0,   4, 533]])"
      ]
     },
     "execution_count": 695,
     "metadata": {},
     "output_type": "execute_result"
    }
   ],
   "source": [
    "from sklearn.metrics import confusion_matrix\n",
    "cm = confusion_matrix(Y_test, final_pred_test)\n",
    "cm"
   ]
  },
  {
   "cell_type": "markdown",
   "metadata": {},
   "source": [
    "> by divide and conquer approach we get the max tuned accuracy for the model as 93.95%"
   ]
  },
  {
   "cell_type": "code",
   "execution_count": null,
   "metadata": {},
   "outputs": [],
   "source": []
  }
 ],
 "metadata": {
  "kernelspec": {
   "display_name": "Python 3",
   "language": "python",
   "name": "python3"
  },
  "language_info": {
   "codemirror_mode": {
    "name": "ipython",
    "version": 3
   },
   "file_extension": ".py",
   "mimetype": "text/x-python",
   "name": "python",
   "nbconvert_exporter": "python",
   "pygments_lexer": "ipython3",
   "version": "3.5.3"
  }
 },
 "nbformat": 4,
 "nbformat_minor": 2
}
